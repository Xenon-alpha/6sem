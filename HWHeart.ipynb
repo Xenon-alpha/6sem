{
 "cells": [
  {
   "cell_type": "code",
   "execution_count": 2,
   "metadata": {
    "id": "7HYMjYPxg3ZE"
   },
   "outputs": [],
   "source": [
    "import pandas as pd"
   ]
  },
  {
   "cell_type": "code",
   "execution_count": 3,
   "metadata": {
    "id": "Vw0ADh6ehxvq"
   },
   "outputs": [],
   "source": [
    "df = pd.read_csv('heart.csv')"
   ]
  },
  {
   "cell_type": "code",
   "execution_count": 4,
   "metadata": {
    "colab": {
     "base_uri": "https://localhost:8080/",
     "height": 363
    },
    "id": "PAf6Kt3dh5bH",
    "outputId": "4a04e882-0088-41c6-9ccc-ca4577f771ea"
   },
   "outputs": [
    {
     "data": {
      "text/html": [
       "<div>\n",
       "<style scoped>\n",
       "    .dataframe tbody tr th:only-of-type {\n",
       "        vertical-align: middle;\n",
       "    }\n",
       "\n",
       "    .dataframe tbody tr th {\n",
       "        vertical-align: top;\n",
       "    }\n",
       "\n",
       "    .dataframe thead th {\n",
       "        text-align: right;\n",
       "    }\n",
       "</style>\n",
       "<table border=\"1\" class=\"dataframe\">\n",
       "  <thead>\n",
       "    <tr style=\"text-align: right;\">\n",
       "      <th></th>\n",
       "      <th>Age</th>\n",
       "      <th>Sex</th>\n",
       "      <th>ChestPainType</th>\n",
       "      <th>RestingBP</th>\n",
       "      <th>Cholesterol</th>\n",
       "      <th>FastingBS</th>\n",
       "      <th>RestingECG</th>\n",
       "      <th>MaxHR</th>\n",
       "      <th>ExerciseAngina</th>\n",
       "      <th>Oldpeak</th>\n",
       "      <th>ST_Slope</th>\n",
       "      <th>HeartDisease</th>\n",
       "    </tr>\n",
       "  </thead>\n",
       "  <tbody>\n",
       "    <tr>\n",
       "      <th>0</th>\n",
       "      <td>40</td>\n",
       "      <td>M</td>\n",
       "      <td>ATA</td>\n",
       "      <td>140</td>\n",
       "      <td>289</td>\n",
       "      <td>0</td>\n",
       "      <td>Normal</td>\n",
       "      <td>172</td>\n",
       "      <td>N</td>\n",
       "      <td>0.0</td>\n",
       "      <td>Up</td>\n",
       "      <td>0</td>\n",
       "    </tr>\n",
       "    <tr>\n",
       "      <th>1</th>\n",
       "      <td>49</td>\n",
       "      <td>F</td>\n",
       "      <td>NAP</td>\n",
       "      <td>160</td>\n",
       "      <td>180</td>\n",
       "      <td>0</td>\n",
       "      <td>Normal</td>\n",
       "      <td>156</td>\n",
       "      <td>N</td>\n",
       "      <td>1.0</td>\n",
       "      <td>Flat</td>\n",
       "      <td>1</td>\n",
       "    </tr>\n",
       "    <tr>\n",
       "      <th>2</th>\n",
       "      <td>37</td>\n",
       "      <td>M</td>\n",
       "      <td>ATA</td>\n",
       "      <td>130</td>\n",
       "      <td>283</td>\n",
       "      <td>0</td>\n",
       "      <td>ST</td>\n",
       "      <td>98</td>\n",
       "      <td>N</td>\n",
       "      <td>0.0</td>\n",
       "      <td>Up</td>\n",
       "      <td>0</td>\n",
       "    </tr>\n",
       "    <tr>\n",
       "      <th>3</th>\n",
       "      <td>48</td>\n",
       "      <td>F</td>\n",
       "      <td>ASY</td>\n",
       "      <td>138</td>\n",
       "      <td>214</td>\n",
       "      <td>0</td>\n",
       "      <td>Normal</td>\n",
       "      <td>108</td>\n",
       "      <td>Y</td>\n",
       "      <td>1.5</td>\n",
       "      <td>Flat</td>\n",
       "      <td>1</td>\n",
       "    </tr>\n",
       "    <tr>\n",
       "      <th>4</th>\n",
       "      <td>54</td>\n",
       "      <td>M</td>\n",
       "      <td>NAP</td>\n",
       "      <td>150</td>\n",
       "      <td>195</td>\n",
       "      <td>0</td>\n",
       "      <td>Normal</td>\n",
       "      <td>122</td>\n",
       "      <td>N</td>\n",
       "      <td>0.0</td>\n",
       "      <td>Up</td>\n",
       "      <td>0</td>\n",
       "    </tr>\n",
       "    <tr>\n",
       "      <th>5</th>\n",
       "      <td>39</td>\n",
       "      <td>M</td>\n",
       "      <td>NAP</td>\n",
       "      <td>120</td>\n",
       "      <td>339</td>\n",
       "      <td>0</td>\n",
       "      <td>Normal</td>\n",
       "      <td>170</td>\n",
       "      <td>N</td>\n",
       "      <td>0.0</td>\n",
       "      <td>Up</td>\n",
       "      <td>0</td>\n",
       "    </tr>\n",
       "    <tr>\n",
       "      <th>6</th>\n",
       "      <td>45</td>\n",
       "      <td>F</td>\n",
       "      <td>ATA</td>\n",
       "      <td>130</td>\n",
       "      <td>237</td>\n",
       "      <td>0</td>\n",
       "      <td>Normal</td>\n",
       "      <td>170</td>\n",
       "      <td>N</td>\n",
       "      <td>0.0</td>\n",
       "      <td>Up</td>\n",
       "      <td>0</td>\n",
       "    </tr>\n",
       "    <tr>\n",
       "      <th>7</th>\n",
       "      <td>54</td>\n",
       "      <td>M</td>\n",
       "      <td>ATA</td>\n",
       "      <td>110</td>\n",
       "      <td>208</td>\n",
       "      <td>0</td>\n",
       "      <td>Normal</td>\n",
       "      <td>142</td>\n",
       "      <td>N</td>\n",
       "      <td>0.0</td>\n",
       "      <td>Up</td>\n",
       "      <td>0</td>\n",
       "    </tr>\n",
       "    <tr>\n",
       "      <th>8</th>\n",
       "      <td>37</td>\n",
       "      <td>M</td>\n",
       "      <td>ASY</td>\n",
       "      <td>140</td>\n",
       "      <td>207</td>\n",
       "      <td>0</td>\n",
       "      <td>Normal</td>\n",
       "      <td>130</td>\n",
       "      <td>Y</td>\n",
       "      <td>1.5</td>\n",
       "      <td>Flat</td>\n",
       "      <td>1</td>\n",
       "    </tr>\n",
       "    <tr>\n",
       "      <th>9</th>\n",
       "      <td>48</td>\n",
       "      <td>F</td>\n",
       "      <td>ATA</td>\n",
       "      <td>120</td>\n",
       "      <td>284</td>\n",
       "      <td>0</td>\n",
       "      <td>Normal</td>\n",
       "      <td>120</td>\n",
       "      <td>N</td>\n",
       "      <td>0.0</td>\n",
       "      <td>Up</td>\n",
       "      <td>0</td>\n",
       "    </tr>\n",
       "  </tbody>\n",
       "</table>\n",
       "</div>"
      ],
      "text/plain": [
       "   Age Sex ChestPainType  RestingBP  Cholesterol  FastingBS RestingECG  MaxHR  \\\n",
       "0   40   M           ATA        140          289          0     Normal    172   \n",
       "1   49   F           NAP        160          180          0     Normal    156   \n",
       "2   37   M           ATA        130          283          0         ST     98   \n",
       "3   48   F           ASY        138          214          0     Normal    108   \n",
       "4   54   M           NAP        150          195          0     Normal    122   \n",
       "5   39   M           NAP        120          339          0     Normal    170   \n",
       "6   45   F           ATA        130          237          0     Normal    170   \n",
       "7   54   M           ATA        110          208          0     Normal    142   \n",
       "8   37   M           ASY        140          207          0     Normal    130   \n",
       "9   48   F           ATA        120          284          0     Normal    120   \n",
       "\n",
       "  ExerciseAngina  Oldpeak ST_Slope  HeartDisease  \n",
       "0              N      0.0       Up             0  \n",
       "1              N      1.0     Flat             1  \n",
       "2              N      0.0       Up             0  \n",
       "3              Y      1.5     Flat             1  \n",
       "4              N      0.0       Up             0  \n",
       "5              N      0.0       Up             0  \n",
       "6              N      0.0       Up             0  \n",
       "7              N      0.0       Up             0  \n",
       "8              Y      1.5     Flat             1  \n",
       "9              N      0.0       Up             0  "
      ]
     },
     "execution_count": 4,
     "metadata": {},
     "output_type": "execute_result"
    }
   ],
   "source": [
    "df.head(10)"
   ]
  },
  {
   "cell_type": "code",
   "execution_count": 5,
   "metadata": {
    "colab": {
     "base_uri": "https://localhost:8080/"
    },
    "id": "_1_g-OsziPgi",
    "outputId": "33691914-dbd5-4de3-97ac-cae7efe7b739"
   },
   "outputs": [
    {
     "name": "stdout",
     "output_type": "stream",
     "text": [
      "<class 'pandas.core.frame.DataFrame'>\n",
      "RangeIndex: 918 entries, 0 to 917\n",
      "Data columns (total 12 columns):\n",
      " #   Column          Non-Null Count  Dtype  \n",
      "---  ------          --------------  -----  \n",
      " 0   Age             918 non-null    int64  \n",
      " 1   Sex             918 non-null    object \n",
      " 2   ChestPainType   918 non-null    object \n",
      " 3   RestingBP       918 non-null    int64  \n",
      " 4   Cholesterol     918 non-null    int64  \n",
      " 5   FastingBS       918 non-null    int64  \n",
      " 6   RestingECG      918 non-null    object \n",
      " 7   MaxHR           918 non-null    int64  \n",
      " 8   ExerciseAngina  918 non-null    object \n",
      " 9   Oldpeak         918 non-null    float64\n",
      " 10  ST_Slope        918 non-null    object \n",
      " 11  HeartDisease    918 non-null    int64  \n",
      "dtypes: float64(1), int64(6), object(5)\n",
      "memory usage: 86.2+ KB\n"
     ]
    }
   ],
   "source": [
    "df.info()"
   ]
  },
  {
   "cell_type": "code",
   "execution_count": 6,
   "metadata": {
    "id": "z-UEX6hoifTD"
   },
   "outputs": [],
   "source": [
    "df.drop_duplicates(inplace = True)"
   ]
  },
  {
   "cell_type": "code",
   "execution_count": 7,
   "metadata": {
    "colab": {
     "base_uri": "https://localhost:8080/"
    },
    "id": "Gitpucs8ifWX",
    "outputId": "6062b7d3-825d-4647-f719-cdf2acdd4eca"
   },
   "outputs": [
    {
     "name": "stdout",
     "output_type": "stream",
     "text": [
      "<class 'pandas.core.frame.DataFrame'>\n",
      "Int64Index: 918 entries, 0 to 917\n",
      "Data columns (total 12 columns):\n",
      " #   Column          Non-Null Count  Dtype  \n",
      "---  ------          --------------  -----  \n",
      " 0   Age             918 non-null    int64  \n",
      " 1   Sex             918 non-null    object \n",
      " 2   ChestPainType   918 non-null    object \n",
      " 3   RestingBP       918 non-null    int64  \n",
      " 4   Cholesterol     918 non-null    int64  \n",
      " 5   FastingBS       918 non-null    int64  \n",
      " 6   RestingECG      918 non-null    object \n",
      " 7   MaxHR           918 non-null    int64  \n",
      " 8   ExerciseAngina  918 non-null    object \n",
      " 9   Oldpeak         918 non-null    float64\n",
      " 10  ST_Slope        918 non-null    object \n",
      " 11  HeartDisease    918 non-null    int64  \n",
      "dtypes: float64(1), int64(6), object(5)\n",
      "memory usage: 93.2+ KB\n"
     ]
    }
   ],
   "source": [
    "df.info()"
   ]
  },
  {
   "cell_type": "code",
   "execution_count": 8,
   "metadata": {
    "id": "GvNAeYTMiff6"
   },
   "outputs": [],
   "source": [
    "from sklearn.preprocessing import LabelEncoder\n",
    "\n",
    "L = LabelEncoder()\n",
    "\n",
    "df['Sex'] = L.fit_transform(df['Sex'])\n",
    "\n",
    "df['ChestPainType'] = L.fit_transform(df['ChestPainType'])\n",
    "\n",
    "df['RestingECG'] = L.fit_transform(df['RestingECG'])\n",
    "\n",
    "df['ExerciseAngina'] = L.fit_transform(df['ExerciseAngina'])\n",
    "\n",
    "df['ST_Slope'] = L.fit_transform(df['ST_Slope'])"
   ]
  },
  {
   "cell_type": "code",
   "execution_count": 9,
   "metadata": {
    "colab": {
     "base_uri": "https://localhost:8080/",
     "height": 363
    },
    "id": "LEIwIs8jkoU-",
    "outputId": "c925acf0-910e-4335-85ad-18862ae1a290"
   },
   "outputs": [
    {
     "data": {
      "text/html": [
       "<div>\n",
       "<style scoped>\n",
       "    .dataframe tbody tr th:only-of-type {\n",
       "        vertical-align: middle;\n",
       "    }\n",
       "\n",
       "    .dataframe tbody tr th {\n",
       "        vertical-align: top;\n",
       "    }\n",
       "\n",
       "    .dataframe thead th {\n",
       "        text-align: right;\n",
       "    }\n",
       "</style>\n",
       "<table border=\"1\" class=\"dataframe\">\n",
       "  <thead>\n",
       "    <tr style=\"text-align: right;\">\n",
       "      <th></th>\n",
       "      <th>Age</th>\n",
       "      <th>Sex</th>\n",
       "      <th>ChestPainType</th>\n",
       "      <th>RestingBP</th>\n",
       "      <th>Cholesterol</th>\n",
       "      <th>FastingBS</th>\n",
       "      <th>RestingECG</th>\n",
       "      <th>MaxHR</th>\n",
       "      <th>ExerciseAngina</th>\n",
       "      <th>Oldpeak</th>\n",
       "      <th>ST_Slope</th>\n",
       "      <th>HeartDisease</th>\n",
       "    </tr>\n",
       "  </thead>\n",
       "  <tbody>\n",
       "    <tr>\n",
       "      <th>0</th>\n",
       "      <td>40</td>\n",
       "      <td>1</td>\n",
       "      <td>1</td>\n",
       "      <td>140</td>\n",
       "      <td>289</td>\n",
       "      <td>0</td>\n",
       "      <td>1</td>\n",
       "      <td>172</td>\n",
       "      <td>0</td>\n",
       "      <td>0.0</td>\n",
       "      <td>2</td>\n",
       "      <td>0</td>\n",
       "    </tr>\n",
       "    <tr>\n",
       "      <th>1</th>\n",
       "      <td>49</td>\n",
       "      <td>0</td>\n",
       "      <td>2</td>\n",
       "      <td>160</td>\n",
       "      <td>180</td>\n",
       "      <td>0</td>\n",
       "      <td>1</td>\n",
       "      <td>156</td>\n",
       "      <td>0</td>\n",
       "      <td>1.0</td>\n",
       "      <td>1</td>\n",
       "      <td>1</td>\n",
       "    </tr>\n",
       "    <tr>\n",
       "      <th>2</th>\n",
       "      <td>37</td>\n",
       "      <td>1</td>\n",
       "      <td>1</td>\n",
       "      <td>130</td>\n",
       "      <td>283</td>\n",
       "      <td>0</td>\n",
       "      <td>2</td>\n",
       "      <td>98</td>\n",
       "      <td>0</td>\n",
       "      <td>0.0</td>\n",
       "      <td>2</td>\n",
       "      <td>0</td>\n",
       "    </tr>\n",
       "    <tr>\n",
       "      <th>3</th>\n",
       "      <td>48</td>\n",
       "      <td>0</td>\n",
       "      <td>0</td>\n",
       "      <td>138</td>\n",
       "      <td>214</td>\n",
       "      <td>0</td>\n",
       "      <td>1</td>\n",
       "      <td>108</td>\n",
       "      <td>1</td>\n",
       "      <td>1.5</td>\n",
       "      <td>1</td>\n",
       "      <td>1</td>\n",
       "    </tr>\n",
       "    <tr>\n",
       "      <th>4</th>\n",
       "      <td>54</td>\n",
       "      <td>1</td>\n",
       "      <td>2</td>\n",
       "      <td>150</td>\n",
       "      <td>195</td>\n",
       "      <td>0</td>\n",
       "      <td>1</td>\n",
       "      <td>122</td>\n",
       "      <td>0</td>\n",
       "      <td>0.0</td>\n",
       "      <td>2</td>\n",
       "      <td>0</td>\n",
       "    </tr>\n",
       "    <tr>\n",
       "      <th>5</th>\n",
       "      <td>39</td>\n",
       "      <td>1</td>\n",
       "      <td>2</td>\n",
       "      <td>120</td>\n",
       "      <td>339</td>\n",
       "      <td>0</td>\n",
       "      <td>1</td>\n",
       "      <td>170</td>\n",
       "      <td>0</td>\n",
       "      <td>0.0</td>\n",
       "      <td>2</td>\n",
       "      <td>0</td>\n",
       "    </tr>\n",
       "    <tr>\n",
       "      <th>6</th>\n",
       "      <td>45</td>\n",
       "      <td>0</td>\n",
       "      <td>1</td>\n",
       "      <td>130</td>\n",
       "      <td>237</td>\n",
       "      <td>0</td>\n",
       "      <td>1</td>\n",
       "      <td>170</td>\n",
       "      <td>0</td>\n",
       "      <td>0.0</td>\n",
       "      <td>2</td>\n",
       "      <td>0</td>\n",
       "    </tr>\n",
       "    <tr>\n",
       "      <th>7</th>\n",
       "      <td>54</td>\n",
       "      <td>1</td>\n",
       "      <td>1</td>\n",
       "      <td>110</td>\n",
       "      <td>208</td>\n",
       "      <td>0</td>\n",
       "      <td>1</td>\n",
       "      <td>142</td>\n",
       "      <td>0</td>\n",
       "      <td>0.0</td>\n",
       "      <td>2</td>\n",
       "      <td>0</td>\n",
       "    </tr>\n",
       "    <tr>\n",
       "      <th>8</th>\n",
       "      <td>37</td>\n",
       "      <td>1</td>\n",
       "      <td>0</td>\n",
       "      <td>140</td>\n",
       "      <td>207</td>\n",
       "      <td>0</td>\n",
       "      <td>1</td>\n",
       "      <td>130</td>\n",
       "      <td>1</td>\n",
       "      <td>1.5</td>\n",
       "      <td>1</td>\n",
       "      <td>1</td>\n",
       "    </tr>\n",
       "    <tr>\n",
       "      <th>9</th>\n",
       "      <td>48</td>\n",
       "      <td>0</td>\n",
       "      <td>1</td>\n",
       "      <td>120</td>\n",
       "      <td>284</td>\n",
       "      <td>0</td>\n",
       "      <td>1</td>\n",
       "      <td>120</td>\n",
       "      <td>0</td>\n",
       "      <td>0.0</td>\n",
       "      <td>2</td>\n",
       "      <td>0</td>\n",
       "    </tr>\n",
       "  </tbody>\n",
       "</table>\n",
       "</div>"
      ],
      "text/plain": [
       "   Age  Sex  ChestPainType  RestingBP  Cholesterol  FastingBS  RestingECG  \\\n",
       "0   40    1              1        140          289          0           1   \n",
       "1   49    0              2        160          180          0           1   \n",
       "2   37    1              1        130          283          0           2   \n",
       "3   48    0              0        138          214          0           1   \n",
       "4   54    1              2        150          195          0           1   \n",
       "5   39    1              2        120          339          0           1   \n",
       "6   45    0              1        130          237          0           1   \n",
       "7   54    1              1        110          208          0           1   \n",
       "8   37    1              0        140          207          0           1   \n",
       "9   48    0              1        120          284          0           1   \n",
       "\n",
       "   MaxHR  ExerciseAngina  Oldpeak  ST_Slope  HeartDisease  \n",
       "0    172               0      0.0         2             0  \n",
       "1    156               0      1.0         1             1  \n",
       "2     98               0      0.0         2             0  \n",
       "3    108               1      1.5         1             1  \n",
       "4    122               0      0.0         2             0  \n",
       "5    170               0      0.0         2             0  \n",
       "6    170               0      0.0         2             0  \n",
       "7    142               0      0.0         2             0  \n",
       "8    130               1      1.5         1             1  \n",
       "9    120               0      0.0         2             0  "
      ]
     },
     "execution_count": 9,
     "metadata": {},
     "output_type": "execute_result"
    }
   ],
   "source": [
    "df.head(10)"
   ]
  },
  {
   "cell_type": "code",
   "execution_count": 10,
   "metadata": {
    "colab": {
     "base_uri": "https://localhost:8080/",
     "height": 363
    },
    "id": "GT7K37UFkw05",
    "outputId": "4f9faab7-0afc-4670-987e-8f121717c445"
   },
   "outputs": [
    {
     "data": {
      "text/html": [
       "<div>\n",
       "<style scoped>\n",
       "    .dataframe tbody tr th:only-of-type {\n",
       "        vertical-align: middle;\n",
       "    }\n",
       "\n",
       "    .dataframe tbody tr th {\n",
       "        vertical-align: top;\n",
       "    }\n",
       "\n",
       "    .dataframe thead th {\n",
       "        text-align: right;\n",
       "    }\n",
       "</style>\n",
       "<table border=\"1\" class=\"dataframe\">\n",
       "  <thead>\n",
       "    <tr style=\"text-align: right;\">\n",
       "      <th></th>\n",
       "      <th>Age</th>\n",
       "      <th>Sex</th>\n",
       "      <th>ChestPainType</th>\n",
       "      <th>RestingBP</th>\n",
       "      <th>Cholesterol</th>\n",
       "      <th>FastingBS</th>\n",
       "      <th>RestingECG</th>\n",
       "      <th>MaxHR</th>\n",
       "      <th>ExerciseAngina</th>\n",
       "      <th>Oldpeak</th>\n",
       "      <th>ST_Slope</th>\n",
       "      <th>HeartDisease</th>\n",
       "    </tr>\n",
       "  </thead>\n",
       "  <tbody>\n",
       "    <tr>\n",
       "      <th>908</th>\n",
       "      <td>63</td>\n",
       "      <td>1</td>\n",
       "      <td>0</td>\n",
       "      <td>140</td>\n",
       "      <td>187</td>\n",
       "      <td>0</td>\n",
       "      <td>0</td>\n",
       "      <td>144</td>\n",
       "      <td>1</td>\n",
       "      <td>4.0</td>\n",
       "      <td>2</td>\n",
       "      <td>1</td>\n",
       "    </tr>\n",
       "    <tr>\n",
       "      <th>909</th>\n",
       "      <td>63</td>\n",
       "      <td>0</td>\n",
       "      <td>0</td>\n",
       "      <td>124</td>\n",
       "      <td>197</td>\n",
       "      <td>0</td>\n",
       "      <td>1</td>\n",
       "      <td>136</td>\n",
       "      <td>1</td>\n",
       "      <td>0.0</td>\n",
       "      <td>1</td>\n",
       "      <td>1</td>\n",
       "    </tr>\n",
       "    <tr>\n",
       "      <th>910</th>\n",
       "      <td>41</td>\n",
       "      <td>1</td>\n",
       "      <td>1</td>\n",
       "      <td>120</td>\n",
       "      <td>157</td>\n",
       "      <td>0</td>\n",
       "      <td>1</td>\n",
       "      <td>182</td>\n",
       "      <td>0</td>\n",
       "      <td>0.0</td>\n",
       "      <td>2</td>\n",
       "      <td>0</td>\n",
       "    </tr>\n",
       "    <tr>\n",
       "      <th>911</th>\n",
       "      <td>59</td>\n",
       "      <td>1</td>\n",
       "      <td>0</td>\n",
       "      <td>164</td>\n",
       "      <td>176</td>\n",
       "      <td>1</td>\n",
       "      <td>0</td>\n",
       "      <td>90</td>\n",
       "      <td>0</td>\n",
       "      <td>1.0</td>\n",
       "      <td>1</td>\n",
       "      <td>1</td>\n",
       "    </tr>\n",
       "    <tr>\n",
       "      <th>912</th>\n",
       "      <td>57</td>\n",
       "      <td>0</td>\n",
       "      <td>0</td>\n",
       "      <td>140</td>\n",
       "      <td>241</td>\n",
       "      <td>0</td>\n",
       "      <td>1</td>\n",
       "      <td>123</td>\n",
       "      <td>1</td>\n",
       "      <td>0.2</td>\n",
       "      <td>1</td>\n",
       "      <td>1</td>\n",
       "    </tr>\n",
       "    <tr>\n",
       "      <th>913</th>\n",
       "      <td>45</td>\n",
       "      <td>1</td>\n",
       "      <td>3</td>\n",
       "      <td>110</td>\n",
       "      <td>264</td>\n",
       "      <td>0</td>\n",
       "      <td>1</td>\n",
       "      <td>132</td>\n",
       "      <td>0</td>\n",
       "      <td>1.2</td>\n",
       "      <td>1</td>\n",
       "      <td>1</td>\n",
       "    </tr>\n",
       "    <tr>\n",
       "      <th>914</th>\n",
       "      <td>68</td>\n",
       "      <td>1</td>\n",
       "      <td>0</td>\n",
       "      <td>144</td>\n",
       "      <td>193</td>\n",
       "      <td>1</td>\n",
       "      <td>1</td>\n",
       "      <td>141</td>\n",
       "      <td>0</td>\n",
       "      <td>3.4</td>\n",
       "      <td>1</td>\n",
       "      <td>1</td>\n",
       "    </tr>\n",
       "    <tr>\n",
       "      <th>915</th>\n",
       "      <td>57</td>\n",
       "      <td>1</td>\n",
       "      <td>0</td>\n",
       "      <td>130</td>\n",
       "      <td>131</td>\n",
       "      <td>0</td>\n",
       "      <td>1</td>\n",
       "      <td>115</td>\n",
       "      <td>1</td>\n",
       "      <td>1.2</td>\n",
       "      <td>1</td>\n",
       "      <td>1</td>\n",
       "    </tr>\n",
       "    <tr>\n",
       "      <th>916</th>\n",
       "      <td>57</td>\n",
       "      <td>0</td>\n",
       "      <td>1</td>\n",
       "      <td>130</td>\n",
       "      <td>236</td>\n",
       "      <td>0</td>\n",
       "      <td>0</td>\n",
       "      <td>174</td>\n",
       "      <td>0</td>\n",
       "      <td>0.0</td>\n",
       "      <td>1</td>\n",
       "      <td>1</td>\n",
       "    </tr>\n",
       "    <tr>\n",
       "      <th>917</th>\n",
       "      <td>38</td>\n",
       "      <td>1</td>\n",
       "      <td>2</td>\n",
       "      <td>138</td>\n",
       "      <td>175</td>\n",
       "      <td>0</td>\n",
       "      <td>1</td>\n",
       "      <td>173</td>\n",
       "      <td>0</td>\n",
       "      <td>0.0</td>\n",
       "      <td>2</td>\n",
       "      <td>0</td>\n",
       "    </tr>\n",
       "  </tbody>\n",
       "</table>\n",
       "</div>"
      ],
      "text/plain": [
       "     Age  Sex  ChestPainType  RestingBP  Cholesterol  FastingBS  RestingECG  \\\n",
       "908   63    1              0        140          187          0           0   \n",
       "909   63    0              0        124          197          0           1   \n",
       "910   41    1              1        120          157          0           1   \n",
       "911   59    1              0        164          176          1           0   \n",
       "912   57    0              0        140          241          0           1   \n",
       "913   45    1              3        110          264          0           1   \n",
       "914   68    1              0        144          193          1           1   \n",
       "915   57    1              0        130          131          0           1   \n",
       "916   57    0              1        130          236          0           0   \n",
       "917   38    1              2        138          175          0           1   \n",
       "\n",
       "     MaxHR  ExerciseAngina  Oldpeak  ST_Slope  HeartDisease  \n",
       "908    144               1      4.0         2             1  \n",
       "909    136               1      0.0         1             1  \n",
       "910    182               0      0.0         2             0  \n",
       "911     90               0      1.0         1             1  \n",
       "912    123               1      0.2         1             1  \n",
       "913    132               0      1.2         1             1  \n",
       "914    141               0      3.4         1             1  \n",
       "915    115               1      1.2         1             1  \n",
       "916    174               0      0.0         1             1  \n",
       "917    173               0      0.0         2             0  "
      ]
     },
     "execution_count": 10,
     "metadata": {},
     "output_type": "execute_result"
    }
   ],
   "source": [
    "df.tail(10)"
   ]
  },
  {
   "cell_type": "code",
   "execution_count": 11,
   "metadata": {
    "colab": {
     "base_uri": "https://localhost:8080/",
     "height": 300
    },
    "id": "QTrRq6pSk1I-",
    "outputId": "1c058961-20ea-4335-f6f7-2830eede9c16"
   },
   "outputs": [
    {
     "data": {
      "text/html": [
       "<div>\n",
       "<style scoped>\n",
       "    .dataframe tbody tr th:only-of-type {\n",
       "        vertical-align: middle;\n",
       "    }\n",
       "\n",
       "    .dataframe tbody tr th {\n",
       "        vertical-align: top;\n",
       "    }\n",
       "\n",
       "    .dataframe thead th {\n",
       "        text-align: right;\n",
       "    }\n",
       "</style>\n",
       "<table border=\"1\" class=\"dataframe\">\n",
       "  <thead>\n",
       "    <tr style=\"text-align: right;\">\n",
       "      <th></th>\n",
       "      <th>Age</th>\n",
       "      <th>Sex</th>\n",
       "      <th>ChestPainType</th>\n",
       "      <th>RestingBP</th>\n",
       "      <th>Cholesterol</th>\n",
       "      <th>FastingBS</th>\n",
       "      <th>RestingECG</th>\n",
       "      <th>MaxHR</th>\n",
       "      <th>ExerciseAngina</th>\n",
       "      <th>Oldpeak</th>\n",
       "      <th>ST_Slope</th>\n",
       "      <th>HeartDisease</th>\n",
       "    </tr>\n",
       "  </thead>\n",
       "  <tbody>\n",
       "    <tr>\n",
       "      <th>count</th>\n",
       "      <td>918.000000</td>\n",
       "      <td>918.000000</td>\n",
       "      <td>918.000000</td>\n",
       "      <td>918.000000</td>\n",
       "      <td>918.000000</td>\n",
       "      <td>918.000000</td>\n",
       "      <td>918.000000</td>\n",
       "      <td>918.000000</td>\n",
       "      <td>918.000000</td>\n",
       "      <td>918.000000</td>\n",
       "      <td>918.000000</td>\n",
       "      <td>918.000000</td>\n",
       "    </tr>\n",
       "    <tr>\n",
       "      <th>mean</th>\n",
       "      <td>53.510893</td>\n",
       "      <td>0.789760</td>\n",
       "      <td>0.781046</td>\n",
       "      <td>132.396514</td>\n",
       "      <td>198.799564</td>\n",
       "      <td>0.233115</td>\n",
       "      <td>0.989107</td>\n",
       "      <td>136.809368</td>\n",
       "      <td>0.404139</td>\n",
       "      <td>0.887364</td>\n",
       "      <td>1.361656</td>\n",
       "      <td>0.553377</td>\n",
       "    </tr>\n",
       "    <tr>\n",
       "      <th>std</th>\n",
       "      <td>9.432617</td>\n",
       "      <td>0.407701</td>\n",
       "      <td>0.956519</td>\n",
       "      <td>18.514154</td>\n",
       "      <td>109.384145</td>\n",
       "      <td>0.423046</td>\n",
       "      <td>0.631671</td>\n",
       "      <td>25.460334</td>\n",
       "      <td>0.490992</td>\n",
       "      <td>1.066570</td>\n",
       "      <td>0.607056</td>\n",
       "      <td>0.497414</td>\n",
       "    </tr>\n",
       "    <tr>\n",
       "      <th>min</th>\n",
       "      <td>28.000000</td>\n",
       "      <td>0.000000</td>\n",
       "      <td>0.000000</td>\n",
       "      <td>0.000000</td>\n",
       "      <td>0.000000</td>\n",
       "      <td>0.000000</td>\n",
       "      <td>0.000000</td>\n",
       "      <td>60.000000</td>\n",
       "      <td>0.000000</td>\n",
       "      <td>-2.600000</td>\n",
       "      <td>0.000000</td>\n",
       "      <td>0.000000</td>\n",
       "    </tr>\n",
       "    <tr>\n",
       "      <th>25%</th>\n",
       "      <td>47.000000</td>\n",
       "      <td>1.000000</td>\n",
       "      <td>0.000000</td>\n",
       "      <td>120.000000</td>\n",
       "      <td>173.250000</td>\n",
       "      <td>0.000000</td>\n",
       "      <td>1.000000</td>\n",
       "      <td>120.000000</td>\n",
       "      <td>0.000000</td>\n",
       "      <td>0.000000</td>\n",
       "      <td>1.000000</td>\n",
       "      <td>0.000000</td>\n",
       "    </tr>\n",
       "    <tr>\n",
       "      <th>50%</th>\n",
       "      <td>54.000000</td>\n",
       "      <td>1.000000</td>\n",
       "      <td>0.000000</td>\n",
       "      <td>130.000000</td>\n",
       "      <td>223.000000</td>\n",
       "      <td>0.000000</td>\n",
       "      <td>1.000000</td>\n",
       "      <td>138.000000</td>\n",
       "      <td>0.000000</td>\n",
       "      <td>0.600000</td>\n",
       "      <td>1.000000</td>\n",
       "      <td>1.000000</td>\n",
       "    </tr>\n",
       "    <tr>\n",
       "      <th>75%</th>\n",
       "      <td>60.000000</td>\n",
       "      <td>1.000000</td>\n",
       "      <td>2.000000</td>\n",
       "      <td>140.000000</td>\n",
       "      <td>267.000000</td>\n",
       "      <td>0.000000</td>\n",
       "      <td>1.000000</td>\n",
       "      <td>156.000000</td>\n",
       "      <td>1.000000</td>\n",
       "      <td>1.500000</td>\n",
       "      <td>2.000000</td>\n",
       "      <td>1.000000</td>\n",
       "    </tr>\n",
       "    <tr>\n",
       "      <th>max</th>\n",
       "      <td>77.000000</td>\n",
       "      <td>1.000000</td>\n",
       "      <td>3.000000</td>\n",
       "      <td>200.000000</td>\n",
       "      <td>603.000000</td>\n",
       "      <td>1.000000</td>\n",
       "      <td>2.000000</td>\n",
       "      <td>202.000000</td>\n",
       "      <td>1.000000</td>\n",
       "      <td>6.200000</td>\n",
       "      <td>2.000000</td>\n",
       "      <td>1.000000</td>\n",
       "    </tr>\n",
       "  </tbody>\n",
       "</table>\n",
       "</div>"
      ],
      "text/plain": [
       "              Age         Sex  ChestPainType   RestingBP  Cholesterol  \\\n",
       "count  918.000000  918.000000     918.000000  918.000000   918.000000   \n",
       "mean    53.510893    0.789760       0.781046  132.396514   198.799564   \n",
       "std      9.432617    0.407701       0.956519   18.514154   109.384145   \n",
       "min     28.000000    0.000000       0.000000    0.000000     0.000000   \n",
       "25%     47.000000    1.000000       0.000000  120.000000   173.250000   \n",
       "50%     54.000000    1.000000       0.000000  130.000000   223.000000   \n",
       "75%     60.000000    1.000000       2.000000  140.000000   267.000000   \n",
       "max     77.000000    1.000000       3.000000  200.000000   603.000000   \n",
       "\n",
       "        FastingBS  RestingECG       MaxHR  ExerciseAngina     Oldpeak  \\\n",
       "count  918.000000  918.000000  918.000000      918.000000  918.000000   \n",
       "mean     0.233115    0.989107  136.809368        0.404139    0.887364   \n",
       "std      0.423046    0.631671   25.460334        0.490992    1.066570   \n",
       "min      0.000000    0.000000   60.000000        0.000000   -2.600000   \n",
       "25%      0.000000    1.000000  120.000000        0.000000    0.000000   \n",
       "50%      0.000000    1.000000  138.000000        0.000000    0.600000   \n",
       "75%      0.000000    1.000000  156.000000        1.000000    1.500000   \n",
       "max      1.000000    2.000000  202.000000        1.000000    6.200000   \n",
       "\n",
       "         ST_Slope  HeartDisease  \n",
       "count  918.000000    918.000000  \n",
       "mean     1.361656      0.553377  \n",
       "std      0.607056      0.497414  \n",
       "min      0.000000      0.000000  \n",
       "25%      1.000000      0.000000  \n",
       "50%      1.000000      1.000000  \n",
       "75%      2.000000      1.000000  \n",
       "max      2.000000      1.000000  "
      ]
     },
     "execution_count": 11,
     "metadata": {},
     "output_type": "execute_result"
    }
   ],
   "source": [
    "df.describe()"
   ]
  },
  {
   "cell_type": "code",
   "execution_count": 12,
   "metadata": {
    "colab": {
     "base_uri": "https://localhost:8080/",
     "height": 447
    },
    "id": "hDkcnbDVlS0J",
    "outputId": "c17f6f82-1def-42ba-9ddb-2d580a0ed321"
   },
   "outputs": [
    {
     "data": {
      "text/plain": [
       "<AxesSubplot:>"
      ]
     },
     "execution_count": 12,
     "metadata": {},
     "output_type": "execute_result"
    },
    {
     "data": {
      "image/png": "[encoded data removed]",
      "text/plain": [
       "<Figure size 432x288 with 1 Axes>"
      ]
     },
     "metadata": {
      "needs_background": "light"
     },
     "output_type": "display_data"
    }
   ],
   "source": [
    "df.Cholesterol.hist(bins = 150)"
   ]
  },
  {
   "cell_type": "code",
   "execution_count": 13,
   "metadata": {
    "colab": {
     "base_uri": "https://localhost:8080/",
     "height": 424
    },
    "id": "1T5eTr0ilyeP",
    "outputId": "3ab3f409-d3ef-4b2e-a198-2f0353da142e"
   },
   "outputs": [
    {
     "data": {
      "text/html": [
       "<div>\n",
       "<style scoped>\n",
       "    .dataframe tbody tr th:only-of-type {\n",
       "        vertical-align: middle;\n",
       "    }\n",
       "\n",
       "    .dataframe tbody tr th {\n",
       "        vertical-align: top;\n",
       "    }\n",
       "\n",
       "    .dataframe thead th {\n",
       "        text-align: right;\n",
       "    }\n",
       "</style>\n",
       "<table border=\"1\" class=\"dataframe\">\n",
       "  <thead>\n",
       "    <tr style=\"text-align: right;\">\n",
       "      <th></th>\n",
       "      <th>Age</th>\n",
       "      <th>Sex</th>\n",
       "      <th>ChestPainType</th>\n",
       "      <th>RestingBP</th>\n",
       "      <th>Cholesterol</th>\n",
       "      <th>FastingBS</th>\n",
       "      <th>RestingECG</th>\n",
       "      <th>MaxHR</th>\n",
       "      <th>ExerciseAngina</th>\n",
       "      <th>Oldpeak</th>\n",
       "      <th>ST_Slope</th>\n",
       "      <th>HeartDisease</th>\n",
       "    </tr>\n",
       "  </thead>\n",
       "  <tbody>\n",
       "    <tr>\n",
       "      <th>293</th>\n",
       "      <td>65</td>\n",
       "      <td>1</td>\n",
       "      <td>0</td>\n",
       "      <td>115</td>\n",
       "      <td>0</td>\n",
       "      <td>0</td>\n",
       "      <td>1</td>\n",
       "      <td>93</td>\n",
       "      <td>1</td>\n",
       "      <td>0.0</td>\n",
       "      <td>1</td>\n",
       "      <td>1</td>\n",
       "    </tr>\n",
       "    <tr>\n",
       "      <th>294</th>\n",
       "      <td>32</td>\n",
       "      <td>1</td>\n",
       "      <td>3</td>\n",
       "      <td>95</td>\n",
       "      <td>0</td>\n",
       "      <td>1</td>\n",
       "      <td>1</td>\n",
       "      <td>127</td>\n",
       "      <td>0</td>\n",
       "      <td>0.7</td>\n",
       "      <td>2</td>\n",
       "      <td>1</td>\n",
       "    </tr>\n",
       "    <tr>\n",
       "      <th>295</th>\n",
       "      <td>61</td>\n",
       "      <td>1</td>\n",
       "      <td>0</td>\n",
       "      <td>105</td>\n",
       "      <td>0</td>\n",
       "      <td>1</td>\n",
       "      <td>1</td>\n",
       "      <td>110</td>\n",
       "      <td>1</td>\n",
       "      <td>1.5</td>\n",
       "      <td>2</td>\n",
       "      <td>1</td>\n",
       "    </tr>\n",
       "    <tr>\n",
       "      <th>296</th>\n",
       "      <td>50</td>\n",
       "      <td>1</td>\n",
       "      <td>0</td>\n",
       "      <td>145</td>\n",
       "      <td>0</td>\n",
       "      <td>1</td>\n",
       "      <td>1</td>\n",
       "      <td>139</td>\n",
       "      <td>1</td>\n",
       "      <td>0.7</td>\n",
       "      <td>1</td>\n",
       "      <td>1</td>\n",
       "    </tr>\n",
       "    <tr>\n",
       "      <th>297</th>\n",
       "      <td>57</td>\n",
       "      <td>1</td>\n",
       "      <td>0</td>\n",
       "      <td>110</td>\n",
       "      <td>0</td>\n",
       "      <td>1</td>\n",
       "      <td>2</td>\n",
       "      <td>131</td>\n",
       "      <td>1</td>\n",
       "      <td>1.4</td>\n",
       "      <td>2</td>\n",
       "      <td>1</td>\n",
       "    </tr>\n",
       "    <tr>\n",
       "      <th>...</th>\n",
       "      <td>...</td>\n",
       "      <td>...</td>\n",
       "      <td>...</td>\n",
       "      <td>...</td>\n",
       "      <td>...</td>\n",
       "      <td>...</td>\n",
       "      <td>...</td>\n",
       "      <td>...</td>\n",
       "      <td>...</td>\n",
       "      <td>...</td>\n",
       "      <td>...</td>\n",
       "      <td>...</td>\n",
       "    </tr>\n",
       "    <tr>\n",
       "      <th>514</th>\n",
       "      <td>43</td>\n",
       "      <td>1</td>\n",
       "      <td>0</td>\n",
       "      <td>122</td>\n",
       "      <td>0</td>\n",
       "      <td>0</td>\n",
       "      <td>1</td>\n",
       "      <td>120</td>\n",
       "      <td>0</td>\n",
       "      <td>0.5</td>\n",
       "      <td>2</td>\n",
       "      <td>1</td>\n",
       "    </tr>\n",
       "    <tr>\n",
       "      <th>515</th>\n",
       "      <td>63</td>\n",
       "      <td>1</td>\n",
       "      <td>2</td>\n",
       "      <td>130</td>\n",
       "      <td>0</td>\n",
       "      <td>1</td>\n",
       "      <td>2</td>\n",
       "      <td>160</td>\n",
       "      <td>0</td>\n",
       "      <td>3.0</td>\n",
       "      <td>1</td>\n",
       "      <td>0</td>\n",
       "    </tr>\n",
       "    <tr>\n",
       "      <th>518</th>\n",
       "      <td>48</td>\n",
       "      <td>1</td>\n",
       "      <td>2</td>\n",
       "      <td>102</td>\n",
       "      <td>0</td>\n",
       "      <td>1</td>\n",
       "      <td>2</td>\n",
       "      <td>110</td>\n",
       "      <td>1</td>\n",
       "      <td>1.0</td>\n",
       "      <td>0</td>\n",
       "      <td>1</td>\n",
       "    </tr>\n",
       "    <tr>\n",
       "      <th>535</th>\n",
       "      <td>56</td>\n",
       "      <td>1</td>\n",
       "      <td>0</td>\n",
       "      <td>130</td>\n",
       "      <td>0</td>\n",
       "      <td>0</td>\n",
       "      <td>0</td>\n",
       "      <td>122</td>\n",
       "      <td>1</td>\n",
       "      <td>1.0</td>\n",
       "      <td>1</td>\n",
       "      <td>1</td>\n",
       "    </tr>\n",
       "    <tr>\n",
       "      <th>536</th>\n",
       "      <td>62</td>\n",
       "      <td>1</td>\n",
       "      <td>2</td>\n",
       "      <td>133</td>\n",
       "      <td>0</td>\n",
       "      <td>1</td>\n",
       "      <td>2</td>\n",
       "      <td>119</td>\n",
       "      <td>1</td>\n",
       "      <td>1.2</td>\n",
       "      <td>1</td>\n",
       "      <td>1</td>\n",
       "    </tr>\n",
       "  </tbody>\n",
       "</table>\n",
       "<p>172 rows × 12 columns</p>\n",
       "</div>"
      ],
      "text/plain": [
       "     Age  Sex  ChestPainType  RestingBP  Cholesterol  FastingBS  RestingECG  \\\n",
       "293   65    1              0        115            0          0           1   \n",
       "294   32    1              3         95            0          1           1   \n",
       "295   61    1              0        105            0          1           1   \n",
       "296   50    1              0        145            0          1           1   \n",
       "297   57    1              0        110            0          1           2   \n",
       "..   ...  ...            ...        ...          ...        ...         ...   \n",
       "514   43    1              0        122            0          0           1   \n",
       "515   63    1              2        130            0          1           2   \n",
       "518   48    1              2        102            0          1           2   \n",
       "535   56    1              0        130            0          0           0   \n",
       "536   62    1              2        133            0          1           2   \n",
       "\n",
       "     MaxHR  ExerciseAngina  Oldpeak  ST_Slope  HeartDisease  \n",
       "293     93               1      0.0         1             1  \n",
       "294    127               0      0.7         2             1  \n",
       "295    110               1      1.5         2             1  \n",
       "296    139               1      0.7         1             1  \n",
       "297    131               1      1.4         2             1  \n",
       "..     ...             ...      ...       ...           ...  \n",
       "514    120               0      0.5         2             1  \n",
       "515    160               0      3.0         1             0  \n",
       "518    110               1      1.0         0             1  \n",
       "535    122               1      1.0         1             1  \n",
       "536    119               1      1.2         1             1  \n",
       "\n",
       "[172 rows x 12 columns]"
      ]
     },
     "execution_count": 13,
     "metadata": {},
     "output_type": "execute_result"
    }
   ],
   "source": [
    "df.loc[df['Cholesterol'] == 0]"
   ]
  },
  {
   "cell_type": "code",
   "execution_count": 14,
   "metadata": {
    "colab": {
     "base_uri": "https://localhost:8080/",
     "height": 424
    },
    "id": "s1z6WtJslyhN",
    "outputId": "db11abab-d10b-4e91-b094-328187f63543"
   },
   "outputs": [
    {
     "data": {
      "text/html": [
       "<div>\n",
       "<style scoped>\n",
       "    .dataframe tbody tr th:only-of-type {\n",
       "        vertical-align: middle;\n",
       "    }\n",
       "\n",
       "    .dataframe tbody tr th {\n",
       "        vertical-align: top;\n",
       "    }\n",
       "\n",
       "    .dataframe thead th {\n",
       "        text-align: right;\n",
       "    }\n",
       "</style>\n",
       "<table border=\"1\" class=\"dataframe\">\n",
       "  <thead>\n",
       "    <tr style=\"text-align: right;\">\n",
       "      <th></th>\n",
       "      <th>Age</th>\n",
       "      <th>Sex</th>\n",
       "      <th>ChestPainType</th>\n",
       "      <th>RestingBP</th>\n",
       "      <th>Cholesterol</th>\n",
       "      <th>FastingBS</th>\n",
       "      <th>RestingECG</th>\n",
       "      <th>MaxHR</th>\n",
       "      <th>ExerciseAngina</th>\n",
       "      <th>Oldpeak</th>\n",
       "      <th>ST_Slope</th>\n",
       "      <th>HeartDisease</th>\n",
       "    </tr>\n",
       "  </thead>\n",
       "  <tbody>\n",
       "    <tr>\n",
       "      <th>293</th>\n",
       "      <td>65</td>\n",
       "      <td>1</td>\n",
       "      <td>0</td>\n",
       "      <td>115</td>\n",
       "      <td>0</td>\n",
       "      <td>0</td>\n",
       "      <td>1</td>\n",
       "      <td>93</td>\n",
       "      <td>1</td>\n",
       "      <td>0.0</td>\n",
       "      <td>1</td>\n",
       "      <td>1</td>\n",
       "    </tr>\n",
       "    <tr>\n",
       "      <th>294</th>\n",
       "      <td>32</td>\n",
       "      <td>1</td>\n",
       "      <td>3</td>\n",
       "      <td>95</td>\n",
       "      <td>0</td>\n",
       "      <td>1</td>\n",
       "      <td>1</td>\n",
       "      <td>127</td>\n",
       "      <td>0</td>\n",
       "      <td>0.7</td>\n",
       "      <td>2</td>\n",
       "      <td>1</td>\n",
       "    </tr>\n",
       "    <tr>\n",
       "      <th>295</th>\n",
       "      <td>61</td>\n",
       "      <td>1</td>\n",
       "      <td>0</td>\n",
       "      <td>105</td>\n",
       "      <td>0</td>\n",
       "      <td>1</td>\n",
       "      <td>1</td>\n",
       "      <td>110</td>\n",
       "      <td>1</td>\n",
       "      <td>1.5</td>\n",
       "      <td>2</td>\n",
       "      <td>1</td>\n",
       "    </tr>\n",
       "    <tr>\n",
       "      <th>296</th>\n",
       "      <td>50</td>\n",
       "      <td>1</td>\n",
       "      <td>0</td>\n",
       "      <td>145</td>\n",
       "      <td>0</td>\n",
       "      <td>1</td>\n",
       "      <td>1</td>\n",
       "      <td>139</td>\n",
       "      <td>1</td>\n",
       "      <td>0.7</td>\n",
       "      <td>1</td>\n",
       "      <td>1</td>\n",
       "    </tr>\n",
       "    <tr>\n",
       "      <th>297</th>\n",
       "      <td>57</td>\n",
       "      <td>1</td>\n",
       "      <td>0</td>\n",
       "      <td>110</td>\n",
       "      <td>0</td>\n",
       "      <td>1</td>\n",
       "      <td>2</td>\n",
       "      <td>131</td>\n",
       "      <td>1</td>\n",
       "      <td>1.4</td>\n",
       "      <td>2</td>\n",
       "      <td>1</td>\n",
       "    </tr>\n",
       "    <tr>\n",
       "      <th>...</th>\n",
       "      <td>...</td>\n",
       "      <td>...</td>\n",
       "      <td>...</td>\n",
       "      <td>...</td>\n",
       "      <td>...</td>\n",
       "      <td>...</td>\n",
       "      <td>...</td>\n",
       "      <td>...</td>\n",
       "      <td>...</td>\n",
       "      <td>...</td>\n",
       "      <td>...</td>\n",
       "      <td>...</td>\n",
       "    </tr>\n",
       "    <tr>\n",
       "      <th>514</th>\n",
       "      <td>43</td>\n",
       "      <td>1</td>\n",
       "      <td>0</td>\n",
       "      <td>122</td>\n",
       "      <td>0</td>\n",
       "      <td>0</td>\n",
       "      <td>1</td>\n",
       "      <td>120</td>\n",
       "      <td>0</td>\n",
       "      <td>0.5</td>\n",
       "      <td>2</td>\n",
       "      <td>1</td>\n",
       "    </tr>\n",
       "    <tr>\n",
       "      <th>515</th>\n",
       "      <td>63</td>\n",
       "      <td>1</td>\n",
       "      <td>2</td>\n",
       "      <td>130</td>\n",
       "      <td>0</td>\n",
       "      <td>1</td>\n",
       "      <td>2</td>\n",
       "      <td>160</td>\n",
       "      <td>0</td>\n",
       "      <td>3.0</td>\n",
       "      <td>1</td>\n",
       "      <td>0</td>\n",
       "    </tr>\n",
       "    <tr>\n",
       "      <th>518</th>\n",
       "      <td>48</td>\n",
       "      <td>1</td>\n",
       "      <td>2</td>\n",
       "      <td>102</td>\n",
       "      <td>0</td>\n",
       "      <td>1</td>\n",
       "      <td>2</td>\n",
       "      <td>110</td>\n",
       "      <td>1</td>\n",
       "      <td>1.0</td>\n",
       "      <td>0</td>\n",
       "      <td>1</td>\n",
       "    </tr>\n",
       "    <tr>\n",
       "      <th>535</th>\n",
       "      <td>56</td>\n",
       "      <td>1</td>\n",
       "      <td>0</td>\n",
       "      <td>130</td>\n",
       "      <td>0</td>\n",
       "      <td>0</td>\n",
       "      <td>0</td>\n",
       "      <td>122</td>\n",
       "      <td>1</td>\n",
       "      <td>1.0</td>\n",
       "      <td>1</td>\n",
       "      <td>1</td>\n",
       "    </tr>\n",
       "    <tr>\n",
       "      <th>536</th>\n",
       "      <td>62</td>\n",
       "      <td>1</td>\n",
       "      <td>2</td>\n",
       "      <td>133</td>\n",
       "      <td>0</td>\n",
       "      <td>1</td>\n",
       "      <td>2</td>\n",
       "      <td>119</td>\n",
       "      <td>1</td>\n",
       "      <td>1.2</td>\n",
       "      <td>1</td>\n",
       "      <td>1</td>\n",
       "    </tr>\n",
       "  </tbody>\n",
       "</table>\n",
       "<p>161 rows × 12 columns</p>\n",
       "</div>"
      ],
      "text/plain": [
       "     Age  Sex  ChestPainType  RestingBP  Cholesterol  FastingBS  RestingECG  \\\n",
       "293   65    1              0        115            0          0           1   \n",
       "294   32    1              3         95            0          1           1   \n",
       "295   61    1              0        105            0          1           1   \n",
       "296   50    1              0        145            0          1           1   \n",
       "297   57    1              0        110            0          1           2   \n",
       "..   ...  ...            ...        ...          ...        ...         ...   \n",
       "514   43    1              0        122            0          0           1   \n",
       "515   63    1              2        130            0          1           2   \n",
       "518   48    1              2        102            0          1           2   \n",
       "535   56    1              0        130            0          0           0   \n",
       "536   62    1              2        133            0          1           2   \n",
       "\n",
       "     MaxHR  ExerciseAngina  Oldpeak  ST_Slope  HeartDisease  \n",
       "293     93               1      0.0         1             1  \n",
       "294    127               0      0.7         2             1  \n",
       "295    110               1      1.5         2             1  \n",
       "296    139               1      0.7         1             1  \n",
       "297    131               1      1.4         2             1  \n",
       "..     ...             ...      ...       ...           ...  \n",
       "514    120               0      0.5         2             1  \n",
       "515    160               0      3.0         1             0  \n",
       "518    110               1      1.0         0             1  \n",
       "535    122               1      1.0         1             1  \n",
       "536    119               1      1.2         1             1  \n",
       "\n",
       "[161 rows x 12 columns]"
      ]
     },
     "execution_count": 14,
     "metadata": {},
     "output_type": "execute_result"
    }
   ],
   "source": [
    "df.loc[(df['Cholesterol'] == 0) & (df['Sex'] == 1)]"
   ]
  },
  {
   "cell_type": "code",
   "execution_count": 15,
   "metadata": {
    "colab": {
     "base_uri": "https://localhost:8080/",
     "height": 447
    },
    "id": "X4kta9PJoc8P",
    "outputId": "2394816b-dccd-4cfa-dcb9-89d7719704d0"
   },
   "outputs": [
    {
     "data": {
      "text/plain": [
       "<AxesSubplot:>"
      ]
     },
     "execution_count": 15,
     "metadata": {},
     "output_type": "execute_result"
    },
    {
     "data": {
      "image/png": "[encoded data removed]",
      "text/plain": [
       "<Figure size 432x288 with 1 Axes>"
      ]
     },
     "metadata": {
      "needs_background": "light"
     },
     "output_type": "display_data"
    }
   ],
   "source": [
    "df['Sex'].hist(bins = 2)"
   ]
  },
  {
   "cell_type": "code",
   "execution_count": 16,
   "metadata": {
    "id": "6dps8xpuosxg"
   },
   "outputs": [],
   "source": [
    "df = df[df.Cholesterol > 0]"
   ]
  },
  {
   "cell_type": "code",
   "execution_count": 17,
   "metadata": {
    "colab": {
     "base_uri": "https://localhost:8080/"
    },
    "id": "dJDbN_eQo8P3",
    "outputId": "856c293a-7795-4580-b3fc-db356c98f8ec"
   },
   "outputs": [
    {
     "name": "stdout",
     "output_type": "stream",
     "text": [
      "<class 'pandas.core.frame.DataFrame'>\n",
      "Int64Index: 746 entries, 0 to 917\n",
      "Data columns (total 12 columns):\n",
      " #   Column          Non-Null Count  Dtype  \n",
      "---  ------          --------------  -----  \n",
      " 0   Age             746 non-null    int64  \n",
      " 1   Sex             746 non-null    int64  \n",
      " 2   ChestPainType   746 non-null    int64  \n",
      " 3   RestingBP       746 non-null    int64  \n",
      " 4   Cholesterol     746 non-null    int64  \n",
      " 5   FastingBS       746 non-null    int64  \n",
      " 6   RestingECG      746 non-null    int64  \n",
      " 7   MaxHR           746 non-null    int64  \n",
      " 8   ExerciseAngina  746 non-null    int64  \n",
      " 9   Oldpeak         746 non-null    float64\n",
      " 10  ST_Slope        746 non-null    int64  \n",
      " 11  HeartDisease    746 non-null    int64  \n",
      "dtypes: float64(1), int64(11)\n",
      "memory usage: 75.8 KB\n"
     ]
    }
   ],
   "source": [
    "df.info()"
   ]
  },
  {
   "cell_type": "code",
   "execution_count": 18,
   "metadata": {
    "colab": {
     "base_uri": "https://localhost:8080/",
     "height": 300
    },
    "id": "_WDieys8o_kQ",
    "outputId": "2e16adbb-b551-4a0f-a340-9a2e2447cc44"
   },
   "outputs": [
    {
     "data": {
      "text/html": [
       "<div>\n",
       "<style scoped>\n",
       "    .dataframe tbody tr th:only-of-type {\n",
       "        vertical-align: middle;\n",
       "    }\n",
       "\n",
       "    .dataframe tbody tr th {\n",
       "        vertical-align: top;\n",
       "    }\n",
       "\n",
       "    .dataframe thead th {\n",
       "        text-align: right;\n",
       "    }\n",
       "</style>\n",
       "<table border=\"1\" class=\"dataframe\">\n",
       "  <thead>\n",
       "    <tr style=\"text-align: right;\">\n",
       "      <th></th>\n",
       "      <th>Age</th>\n",
       "      <th>Sex</th>\n",
       "      <th>ChestPainType</th>\n",
       "      <th>RestingBP</th>\n",
       "      <th>Cholesterol</th>\n",
       "      <th>FastingBS</th>\n",
       "      <th>RestingECG</th>\n",
       "      <th>MaxHR</th>\n",
       "      <th>ExerciseAngina</th>\n",
       "      <th>Oldpeak</th>\n",
       "      <th>ST_Slope</th>\n",
       "      <th>HeartDisease</th>\n",
       "    </tr>\n",
       "  </thead>\n",
       "  <tbody>\n",
       "    <tr>\n",
       "      <th>count</th>\n",
       "      <td>746.000000</td>\n",
       "      <td>746.000000</td>\n",
       "      <td>746.000000</td>\n",
       "      <td>746.000000</td>\n",
       "      <td>746.000000</td>\n",
       "      <td>746.000000</td>\n",
       "      <td>746.000000</td>\n",
       "      <td>746.000000</td>\n",
       "      <td>746.000000</td>\n",
       "      <td>746.000000</td>\n",
       "      <td>746.000000</td>\n",
       "      <td>746.000000</td>\n",
       "    </tr>\n",
       "    <tr>\n",
       "      <th>mean</th>\n",
       "      <td>52.882038</td>\n",
       "      <td>0.756032</td>\n",
       "      <td>0.840483</td>\n",
       "      <td>133.022788</td>\n",
       "      <td>244.635389</td>\n",
       "      <td>0.167560</td>\n",
       "      <td>0.931635</td>\n",
       "      <td>140.226542</td>\n",
       "      <td>0.384718</td>\n",
       "      <td>0.901609</td>\n",
       "      <td>1.410188</td>\n",
       "      <td>0.477212</td>\n",
       "    </tr>\n",
       "    <tr>\n",
       "      <th>std</th>\n",
       "      <td>9.505888</td>\n",
       "      <td>0.429762</td>\n",
       "      <td>0.958198</td>\n",
       "      <td>17.282750</td>\n",
       "      <td>59.153524</td>\n",
       "      <td>0.373726</td>\n",
       "      <td>0.631939</td>\n",
       "      <td>24.524107</td>\n",
       "      <td>0.486855</td>\n",
       "      <td>1.072861</td>\n",
       "      <td>0.598076</td>\n",
       "      <td>0.499816</td>\n",
       "    </tr>\n",
       "    <tr>\n",
       "      <th>min</th>\n",
       "      <td>28.000000</td>\n",
       "      <td>0.000000</td>\n",
       "      <td>0.000000</td>\n",
       "      <td>92.000000</td>\n",
       "      <td>85.000000</td>\n",
       "      <td>0.000000</td>\n",
       "      <td>0.000000</td>\n",
       "      <td>69.000000</td>\n",
       "      <td>0.000000</td>\n",
       "      <td>-0.100000</td>\n",
       "      <td>0.000000</td>\n",
       "      <td>0.000000</td>\n",
       "    </tr>\n",
       "    <tr>\n",
       "      <th>25%</th>\n",
       "      <td>46.000000</td>\n",
       "      <td>1.000000</td>\n",
       "      <td>0.000000</td>\n",
       "      <td>120.000000</td>\n",
       "      <td>207.250000</td>\n",
       "      <td>0.000000</td>\n",
       "      <td>1.000000</td>\n",
       "      <td>122.000000</td>\n",
       "      <td>0.000000</td>\n",
       "      <td>0.000000</td>\n",
       "      <td>1.000000</td>\n",
       "      <td>0.000000</td>\n",
       "    </tr>\n",
       "    <tr>\n",
       "      <th>50%</th>\n",
       "      <td>54.000000</td>\n",
       "      <td>1.000000</td>\n",
       "      <td>1.000000</td>\n",
       "      <td>130.000000</td>\n",
       "      <td>237.000000</td>\n",
       "      <td>0.000000</td>\n",
       "      <td>1.000000</td>\n",
       "      <td>140.000000</td>\n",
       "      <td>0.000000</td>\n",
       "      <td>0.500000</td>\n",
       "      <td>1.000000</td>\n",
       "      <td>0.000000</td>\n",
       "    </tr>\n",
       "    <tr>\n",
       "      <th>75%</th>\n",
       "      <td>59.000000</td>\n",
       "      <td>1.000000</td>\n",
       "      <td>2.000000</td>\n",
       "      <td>140.000000</td>\n",
       "      <td>275.000000</td>\n",
       "      <td>0.000000</td>\n",
       "      <td>1.000000</td>\n",
       "      <td>160.000000</td>\n",
       "      <td>1.000000</td>\n",
       "      <td>1.500000</td>\n",
       "      <td>2.000000</td>\n",
       "      <td>1.000000</td>\n",
       "    </tr>\n",
       "    <tr>\n",
       "      <th>max</th>\n",
       "      <td>77.000000</td>\n",
       "      <td>1.000000</td>\n",
       "      <td>3.000000</td>\n",
       "      <td>200.000000</td>\n",
       "      <td>603.000000</td>\n",
       "      <td>1.000000</td>\n",
       "      <td>2.000000</td>\n",
       "      <td>202.000000</td>\n",
       "      <td>1.000000</td>\n",
       "      <td>6.200000</td>\n",
       "      <td>2.000000</td>\n",
       "      <td>1.000000</td>\n",
       "    </tr>\n",
       "  </tbody>\n",
       "</table>\n",
       "</div>"
      ],
      "text/plain": [
       "              Age         Sex  ChestPainType   RestingBP  Cholesterol  \\\n",
       "count  746.000000  746.000000     746.000000  746.000000   746.000000   \n",
       "mean    52.882038    0.756032       0.840483  133.022788   244.635389   \n",
       "std      9.505888    0.429762       0.958198   17.282750    59.153524   \n",
       "min     28.000000    0.000000       0.000000   92.000000    85.000000   \n",
       "25%     46.000000    1.000000       0.000000  120.000000   207.250000   \n",
       "50%     54.000000    1.000000       1.000000  130.000000   237.000000   \n",
       "75%     59.000000    1.000000       2.000000  140.000000   275.000000   \n",
       "max     77.000000    1.000000       3.000000  200.000000   603.000000   \n",
       "\n",
       "        FastingBS  RestingECG       MaxHR  ExerciseAngina     Oldpeak  \\\n",
       "count  746.000000  746.000000  746.000000      746.000000  746.000000   \n",
       "mean     0.167560    0.931635  140.226542        0.384718    0.901609   \n",
       "std      0.373726    0.631939   24.524107        0.486855    1.072861   \n",
       "min      0.000000    0.000000   69.000000        0.000000   -0.100000   \n",
       "25%      0.000000    1.000000  122.000000        0.000000    0.000000   \n",
       "50%      0.000000    1.000000  140.000000        0.000000    0.500000   \n",
       "75%      0.000000    1.000000  160.000000        1.000000    1.500000   \n",
       "max      1.000000    2.000000  202.000000        1.000000    6.200000   \n",
       "\n",
       "         ST_Slope  HeartDisease  \n",
       "count  746.000000    746.000000  \n",
       "mean     1.410188      0.477212  \n",
       "std      0.598076      0.499816  \n",
       "min      0.000000      0.000000  \n",
       "25%      1.000000      0.000000  \n",
       "50%      1.000000      0.000000  \n",
       "75%      2.000000      1.000000  \n",
       "max      2.000000      1.000000  "
      ]
     },
     "execution_count": 18,
     "metadata": {},
     "output_type": "execute_result"
    }
   ],
   "source": [
    "df.describe()"
   ]
  },
  {
   "cell_type": "code",
   "execution_count": 19,
   "metadata": {
    "colab": {
     "base_uri": "https://localhost:8080/",
     "height": 447
    },
    "id": "O2drd_IOpFBZ",
    "outputId": "c176d395-da9b-44c4-90c1-3422de3e2120"
   },
   "outputs": [
    {
     "data": {
      "text/plain": [
       "<AxesSubplot:>"
      ]
     },
     "execution_count": 19,
     "metadata": {},
     "output_type": "execute_result"
    },
    {
     "data": {
      "image/png": "[encoded data removed]",
      "text/plain": [
       "<Figure size 432x288 with 1 Axes>"
      ]
     },
     "metadata": {
      "needs_background": "light"
     },
     "output_type": "display_data"
    }
   ],
   "source": [
    "df.Sex.hist(bins  = 2)"
   ]
  },
  {
   "cell_type": "code",
   "execution_count": 20,
   "metadata": {
    "colab": {
     "base_uri": "https://localhost:8080/",
     "height": 447
    },
    "id": "VP37zV6Wpaxj",
    "outputId": "30942a79-bf94-4618-8a7a-f873c3f915ce"
   },
   "outputs": [
    {
     "data": {
      "text/plain": [
       "<AxesSubplot:>"
      ]
     },
     "execution_count": 20,
     "metadata": {},
     "output_type": "execute_result"
    },
    {
     "data": {
      "image/png": "[encoded data removed]",
      "text/plain": [
       "<Figure size 432x288 with 1 Axes>"
      ]
     },
     "metadata": {
      "needs_background": "light"
     },
     "output_type": "display_data"
    }
   ],
   "source": [
    "df.Cholesterol.hist(bins = 150)"
   ]
  },
  {
   "cell_type": "code",
   "execution_count": 21,
   "metadata": {
    "colab": {
     "base_uri": "https://localhost:8080/",
     "height": 447
    },
    "id": "-gDVdhs4phEa",
    "outputId": "0597b262-25e7-4044-c254-b141bfc76847"
   },
   "outputs": [
    {
     "data": {
      "text/plain": [
       "<AxesSubplot:>"
      ]
     },
     "execution_count": 21,
     "metadata": {},
     "output_type": "execute_result"
    },
    {
     "data": {
      "image/png": "[encoded data removed]",
      "text/plain": [
       "<Figure size 432x288 with 1 Axes>"
      ]
     },
     "metadata": {
      "needs_background": "light"
     },
     "output_type": "display_data"
    }
   ],
   "source": [
    "df.RestingBP.hist(bins = 150)"
   ]
  },
  {
   "cell_type": "code",
   "execution_count": 22,
   "metadata": {
    "colab": {
     "base_uri": "https://localhost:8080/",
     "height": 447
    },
    "id": "y2lB3FnBqVYZ",
    "outputId": "79a70f69-ea17-4faf-aaa0-a33b217ef4e8"
   },
   "outputs": [
    {
     "data": {
      "text/plain": [
       "<AxesSubplot:>"
      ]
     },
     "execution_count": 22,
     "metadata": {},
     "output_type": "execute_result"
    },
    {
     "data": {
      "image/png": "[encoded data removed]",
      "text/plain": [
       "<Figure size 432x288 with 1 Axes>"
      ]
     },
     "metadata": {
      "needs_background": "light"
     },
     "output_type": "display_data"
    }
   ],
   "source": [
    "df.MaxHR.hist(bins = 100)"
   ]
  },
  {
   "cell_type": "code",
   "execution_count": 23,
   "metadata": {
    "colab": {
     "base_uri": "https://localhost:8080/",
     "height": 447
    },
    "id": "tkm33ykMqwOi",
    "outputId": "88cdcf6d-800c-4f2a-ae37-aca48143bcf4"
   },
   "outputs": [
    {
     "data": {
      "text/plain": [
       "<AxesSubplot:>"
      ]
     },
     "execution_count": 23,
     "metadata": {},
     "output_type": "execute_result"
    },
    {
     "data": {
      "image/png": "[encoded data removed]",
      "text/plain": [
       "<Figure size 432x288 with 1 Axes>"
      ]
     },
     "metadata": {
      "needs_background": "light"
     },
     "output_type": "display_data"
    }
   ],
   "source": [
    "df.Oldpeak.hist(bins = 150)"
   ]
  },
  {
   "cell_type": "code",
   "execution_count": 24,
   "metadata": {
    "colab": {
     "base_uri": "https://localhost:8080/",
     "height": 81
    },
    "id": "wAB8gz6QrSFu",
    "outputId": "34323ad4-88ac-40c0-e45e-3810e8b6c49c"
   },
   "outputs": [
    {
     "data": {
      "text/html": [
       "<div>\n",
       "<style scoped>\n",
       "    .dataframe tbody tr th:only-of-type {\n",
       "        vertical-align: middle;\n",
       "    }\n",
       "\n",
       "    .dataframe tbody tr th {\n",
       "        vertical-align: top;\n",
       "    }\n",
       "\n",
       "    .dataframe thead th {\n",
       "        text-align: right;\n",
       "    }\n",
       "</style>\n",
       "<table border=\"1\" class=\"dataframe\">\n",
       "  <thead>\n",
       "    <tr style=\"text-align: right;\">\n",
       "      <th></th>\n",
       "      <th>Age</th>\n",
       "      <th>Sex</th>\n",
       "      <th>ChestPainType</th>\n",
       "      <th>RestingBP</th>\n",
       "      <th>Cholesterol</th>\n",
       "      <th>FastingBS</th>\n",
       "      <th>RestingECG</th>\n",
       "      <th>MaxHR</th>\n",
       "      <th>ExerciseAngina</th>\n",
       "      <th>Oldpeak</th>\n",
       "      <th>ST_Slope</th>\n",
       "      <th>HeartDisease</th>\n",
       "    </tr>\n",
       "  </thead>\n",
       "  <tbody>\n",
       "    <tr>\n",
       "      <th>512</th>\n",
       "      <td>35</td>\n",
       "      <td>1</td>\n",
       "      <td>2</td>\n",
       "      <td>123</td>\n",
       "      <td>161</td>\n",
       "      <td>0</td>\n",
       "      <td>2</td>\n",
       "      <td>153</td>\n",
       "      <td>0</td>\n",
       "      <td>-0.1</td>\n",
       "      <td>2</td>\n",
       "      <td>0</td>\n",
       "    </tr>\n",
       "  </tbody>\n",
       "</table>\n",
       "</div>"
      ],
      "text/plain": [
       "     Age  Sex  ChestPainType  RestingBP  Cholesterol  FastingBS  RestingECG  \\\n",
       "512   35    1              2        123          161          0           2   \n",
       "\n",
       "     MaxHR  ExerciseAngina  Oldpeak  ST_Slope  HeartDisease  \n",
       "512    153               0     -0.1         2             0  "
      ]
     },
     "execution_count": 24,
     "metadata": {},
     "output_type": "execute_result"
    }
   ],
   "source": [
    "df.loc[df.Oldpeak < 0]"
   ]
  },
  {
   "cell_type": "code",
   "execution_count": 25,
   "metadata": {
    "id": "No3FmJNgro5v"
   },
   "outputs": [],
   "source": [
    "df.loc[ (df.Oldpeak < 0), 'Oldpeak'] = (-1) * df.loc[ (df.Oldpeak < 0), 'Oldpeak']"
   ]
  },
  {
   "cell_type": "code",
   "execution_count": 26,
   "metadata": {
    "colab": {
     "base_uri": "https://localhost:8080/"
    },
    "id": "EVft6wW8s9Av",
    "outputId": "2d50b5a4-3ef0-401d-ddd9-377c3a3dd976"
   },
   "outputs": [
    {
     "data": {
      "text/plain": [
       "Age                35.0\n",
       "Sex                 1.0\n",
       "ChestPainType       2.0\n",
       "RestingBP         123.0\n",
       "Cholesterol       161.0\n",
       "FastingBS           0.0\n",
       "RestingECG          2.0\n",
       "MaxHR             153.0\n",
       "ExerciseAngina      0.0\n",
       "Oldpeak             0.1\n",
       "ST_Slope            2.0\n",
       "HeartDisease        0.0\n",
       "Name: 512, dtype: float64"
      ]
     },
     "execution_count": 26,
     "metadata": {},
     "output_type": "execute_result"
    }
   ],
   "source": [
    "df.loc[512]"
   ]
  },
  {
   "cell_type": "code",
   "execution_count": 27,
   "metadata": {
    "colab": {
     "base_uri": "https://localhost:8080/",
     "height": 447
    },
    "id": "raMQN65jtDTT",
    "outputId": "1df3fb3e-0b0b-4fba-a8d3-7fedb4804a03"
   },
   "outputs": [
    {
     "data": {
      "text/plain": [
       "<AxesSubplot:>"
      ]
     },
     "execution_count": 27,
     "metadata": {},
     "output_type": "execute_result"
    },
    {
     "data": {
      "image/png": "[encoded data removed]",
      "text/plain": [
       "<Figure size 432x288 with 1 Axes>"
      ]
     },
     "metadata": {
      "needs_background": "light"
     },
     "output_type": "display_data"
    }
   ],
   "source": [
    "df.ExerciseAngina.hist(bins = 5)"
   ]
  },
  {
   "cell_type": "code",
   "execution_count": 28,
   "metadata": {
    "id": "h4DQBzAptQU7"
   },
   "outputs": [],
   "source": [
    "import seaborn as sns"
   ]
  },
  {
   "cell_type": "code",
   "execution_count": 29,
   "metadata": {
    "colab": {
     "base_uri": "https://localhost:8080/",
     "height": 447
    },
    "id": "hkL0_QPttU7b",
    "outputId": "a0755169-7c7f-4960-ba8c-986eaf2913e9"
   },
   "outputs": [
    {
     "data": {
      "text/plain": [
       "<AxesSubplot:>"
      ]
     },
     "execution_count": 29,
     "metadata": {},
     "output_type": "execute_result"
    },
    {
     "data": {
      "image/png": "[encoded data removed]",
      "text/plain": [
       "<Figure size 432x288 with 2 Axes>"
      ]
     },
     "metadata": {
      "needs_background": "light"
     },
     "output_type": "display_data"
    }
   ],
   "source": [
    "from sklearn.metrics import confusion_matrix\n",
    "\n",
    "cm111 = confusion_matrix(df.ExerciseAngina, df.HeartDisease)\n",
    "\n",
    "sns.heatmap(cm111, annot = True, fmt = '.1f')"
   ]
  },
  {
   "cell_type": "code",
   "execution_count": 30,
   "metadata": {
    "id": "8C6AxzM9uXbh"
   },
   "outputs": [],
   "source": [
    "from sklearn.metrics import accuracy_score"
   ]
  },
  {
   "cell_type": "code",
   "execution_count": 31,
   "metadata": {
    "colab": {
     "base_uri": "https://localhost:8080/"
    },
    "id": "DyH6JB37udlb",
    "outputId": "bfd286d3-75ad-4fa7-85aa-42ec2c99fd1c"
   },
   "outputs": [
    {
     "data": {
      "text/plain": [
       "0.7734584450402144"
      ]
     },
     "execution_count": 31,
     "metadata": {},
     "output_type": "execute_result"
    }
   ],
   "source": [
    "accuracy_score(df.ExerciseAngina, df.HeartDisease)"
   ]
  },
  {
   "cell_type": "code",
   "execution_count": 32,
   "metadata": {
    "colab": {
     "base_uri": "https://localhost:8080/",
     "height": 426
    },
    "id": "21aCjFbkunN_",
    "outputId": "685afc35-28d0-4d18-caf4-5204d546dc2b"
   },
   "outputs": [
    {
     "data": {
      "text/html": [
       "<div>\n",
       "<style scoped>\n",
       "    .dataframe tbody tr th:only-of-type {\n",
       "        vertical-align: middle;\n",
       "    }\n",
       "\n",
       "    .dataframe tbody tr th {\n",
       "        vertical-align: top;\n",
       "    }\n",
       "\n",
       "    .dataframe thead th {\n",
       "        text-align: right;\n",
       "    }\n",
       "</style>\n",
       "<table border=\"1\" class=\"dataframe\">\n",
       "  <thead>\n",
       "    <tr style=\"text-align: right;\">\n",
       "      <th></th>\n",
       "      <th>Age</th>\n",
       "      <th>Sex</th>\n",
       "      <th>ChestPainType</th>\n",
       "      <th>RestingBP</th>\n",
       "      <th>Cholesterol</th>\n",
       "      <th>FastingBS</th>\n",
       "      <th>RestingECG</th>\n",
       "      <th>MaxHR</th>\n",
       "      <th>ExerciseAngina</th>\n",
       "      <th>Oldpeak</th>\n",
       "      <th>ST_Slope</th>\n",
       "      <th>HeartDisease</th>\n",
       "    </tr>\n",
       "  </thead>\n",
       "  <tbody>\n",
       "    <tr>\n",
       "      <th>Age</th>\n",
       "      <td>1.000000</td>\n",
       "      <td>0.040917</td>\n",
       "      <td>-0.083120</td>\n",
       "      <td>0.259865</td>\n",
       "      <td>0.058758</td>\n",
       "      <td>0.241338</td>\n",
       "      <td>-0.055419</td>\n",
       "      <td>-0.382112</td>\n",
       "      <td>0.245908</td>\n",
       "      <td>0.285596</td>\n",
       "      <td>-0.285421</td>\n",
       "      <td>0.298617</td>\n",
       "    </tr>\n",
       "    <tr>\n",
       "      <th>Sex</th>\n",
       "      <td>0.040917</td>\n",
       "      <td>1.000000</td>\n",
       "      <td>-0.120709</td>\n",
       "      <td>0.034363</td>\n",
       "      <td>-0.107045</td>\n",
       "      <td>0.096075</td>\n",
       "      <td>0.042296</td>\n",
       "      <td>-0.157002</td>\n",
       "      <td>0.192579</td>\n",
       "      <td>0.125911</td>\n",
       "      <td>-0.142808</td>\n",
       "      <td>0.292779</td>\n",
       "    </tr>\n",
       "    <tr>\n",
       "      <th>ChestPainType</th>\n",
       "      <td>-0.083120</td>\n",
       "      <td>-0.120709</td>\n",
       "      <td>1.000000</td>\n",
       "      <td>-0.034066</td>\n",
       "      <td>-0.102644</td>\n",
       "      <td>-0.000226</td>\n",
       "      <td>-0.046851</td>\n",
       "      <td>0.303938</td>\n",
       "      <td>-0.394822</td>\n",
       "      <td>-0.219505</td>\n",
       "      <td>0.238469</td>\n",
       "      <td>-0.395776</td>\n",
       "    </tr>\n",
       "    <tr>\n",
       "      <th>RestingBP</th>\n",
       "      <td>0.259865</td>\n",
       "      <td>0.034363</td>\n",
       "      <td>-0.034066</td>\n",
       "      <td>1.000000</td>\n",
       "      <td>0.095939</td>\n",
       "      <td>0.173765</td>\n",
       "      <td>0.035661</td>\n",
       "      <td>-0.125774</td>\n",
       "      <td>0.161035</td>\n",
       "      <td>0.198472</td>\n",
       "      <td>-0.143881</td>\n",
       "      <td>0.173242</td>\n",
       "    </tr>\n",
       "    <tr>\n",
       "      <th>Cholesterol</th>\n",
       "      <td>0.058758</td>\n",
       "      <td>-0.107045</td>\n",
       "      <td>-0.102644</td>\n",
       "      <td>0.095939</td>\n",
       "      <td>1.000000</td>\n",
       "      <td>0.054012</td>\n",
       "      <td>-0.070544</td>\n",
       "      <td>-0.019856</td>\n",
       "      <td>0.086768</td>\n",
       "      <td>0.058147</td>\n",
       "      <td>-0.078516</td>\n",
       "      <td>0.103866</td>\n",
       "    </tr>\n",
       "    <tr>\n",
       "      <th>FastingBS</th>\n",
       "      <td>0.241338</td>\n",
       "      <td>0.096075</td>\n",
       "      <td>-0.000226</td>\n",
       "      <td>0.173765</td>\n",
       "      <td>0.054012</td>\n",
       "      <td>1.000000</td>\n",
       "      <td>0.031518</td>\n",
       "      <td>-0.102710</td>\n",
       "      <td>0.109995</td>\n",
       "      <td>0.055468</td>\n",
       "      <td>-0.157780</td>\n",
       "      <td>0.160594</td>\n",
       "    </tr>\n",
       "    <tr>\n",
       "      <th>RestingECG</th>\n",
       "      <td>-0.055419</td>\n",
       "      <td>0.042296</td>\n",
       "      <td>-0.046851</td>\n",
       "      <td>0.035661</td>\n",
       "      <td>-0.070544</td>\n",
       "      <td>0.031518</td>\n",
       "      <td>1.000000</td>\n",
       "      <td>-0.158797</td>\n",
       "      <td>0.085602</td>\n",
       "      <td>-0.027138</td>\n",
       "      <td>0.017472</td>\n",
       "      <td>0.009935</td>\n",
       "    </tr>\n",
       "    <tr>\n",
       "      <th>MaxHR</th>\n",
       "      <td>-0.382112</td>\n",
       "      <td>-0.157002</td>\n",
       "      <td>0.303938</td>\n",
       "      <td>-0.125774</td>\n",
       "      <td>-0.019856</td>\n",
       "      <td>-0.102710</td>\n",
       "      <td>-0.158797</td>\n",
       "      <td>1.000000</td>\n",
       "      <td>-0.396289</td>\n",
       "      <td>-0.259457</td>\n",
       "      <td>0.349926</td>\n",
       "      <td>-0.377212</td>\n",
       "    </tr>\n",
       "    <tr>\n",
       "      <th>ExerciseAngina</th>\n",
       "      <td>0.245908</td>\n",
       "      <td>0.192579</td>\n",
       "      <td>-0.394822</td>\n",
       "      <td>0.161035</td>\n",
       "      <td>0.086768</td>\n",
       "      <td>0.109995</td>\n",
       "      <td>0.085602</td>\n",
       "      <td>-0.396289</td>\n",
       "      <td>1.000000</td>\n",
       "      <td>0.465391</td>\n",
       "      <td>-0.473543</td>\n",
       "      <td>0.551834</td>\n",
       "    </tr>\n",
       "    <tr>\n",
       "      <th>Oldpeak</th>\n",
       "      <td>0.285596</td>\n",
       "      <td>0.125911</td>\n",
       "      <td>-0.219505</td>\n",
       "      <td>0.198472</td>\n",
       "      <td>0.058147</td>\n",
       "      <td>0.055468</td>\n",
       "      <td>-0.027138</td>\n",
       "      <td>-0.259457</td>\n",
       "      <td>0.465391</td>\n",
       "      <td>1.000000</td>\n",
       "      <td>-0.613843</td>\n",
       "      <td>0.495562</td>\n",
       "    </tr>\n",
       "    <tr>\n",
       "      <th>ST_Slope</th>\n",
       "      <td>-0.285421</td>\n",
       "      <td>-0.142808</td>\n",
       "      <td>0.238469</td>\n",
       "      <td>-0.143881</td>\n",
       "      <td>-0.078516</td>\n",
       "      <td>-0.157780</td>\n",
       "      <td>0.017472</td>\n",
       "      <td>0.349926</td>\n",
       "      <td>-0.473543</td>\n",
       "      <td>-0.613843</td>\n",
       "      <td>1.000000</td>\n",
       "      <td>-0.597334</td>\n",
       "    </tr>\n",
       "    <tr>\n",
       "      <th>HeartDisease</th>\n",
       "      <td>0.298617</td>\n",
       "      <td>0.292779</td>\n",
       "      <td>-0.395776</td>\n",
       "      <td>0.173242</td>\n",
       "      <td>0.103866</td>\n",
       "      <td>0.160594</td>\n",
       "      <td>0.009935</td>\n",
       "      <td>-0.377212</td>\n",
       "      <td>0.551834</td>\n",
       "      <td>0.495562</td>\n",
       "      <td>-0.597334</td>\n",
       "      <td>1.000000</td>\n",
       "    </tr>\n",
       "  </tbody>\n",
       "</table>\n",
       "</div>"
      ],
      "text/plain": [
       "                     Age       Sex  ChestPainType  RestingBP  Cholesterol  \\\n",
       "Age             1.000000  0.040917      -0.083120   0.259865     0.058758   \n",
       "Sex             0.040917  1.000000      -0.120709   0.034363    -0.107045   \n",
       "ChestPainType  -0.083120 -0.120709       1.000000  -0.034066    -0.102644   \n",
       "RestingBP       0.259865  0.034363      -0.034066   1.000000     0.095939   \n",
       "Cholesterol     0.058758 -0.107045      -0.102644   0.095939     1.000000   \n",
       "FastingBS       0.241338  0.096075      -0.000226   0.173765     0.054012   \n",
       "RestingECG     -0.055419  0.042296      -0.046851   0.035661    -0.070544   \n",
       "MaxHR          -0.382112 -0.157002       0.303938  -0.125774    -0.019856   \n",
       "ExerciseAngina  0.245908  0.192579      -0.394822   0.161035     0.086768   \n",
       "Oldpeak         0.285596  0.125911      -0.219505   0.198472     0.058147   \n",
       "ST_Slope       -0.285421 -0.142808       0.238469  -0.143881    -0.078516   \n",
       "HeartDisease    0.298617  0.292779      -0.395776   0.173242     0.103866   \n",
       "\n",
       "                FastingBS  RestingECG     MaxHR  ExerciseAngina   Oldpeak  \\\n",
       "Age              0.241338   -0.055419 -0.382112        0.245908  0.285596   \n",
       "Sex              0.096075    0.042296 -0.157002        0.192579  0.125911   \n",
       "ChestPainType   -0.000226   -0.046851  0.303938       -0.394822 -0.219505   \n",
       "RestingBP        0.173765    0.035661 -0.125774        0.161035  0.198472   \n",
       "Cholesterol      0.054012   -0.070544 -0.019856        0.086768  0.058147   \n",
       "FastingBS        1.000000    0.031518 -0.102710        0.109995  0.055468   \n",
       "RestingECG       0.031518    1.000000 -0.158797        0.085602 -0.027138   \n",
       "MaxHR           -0.102710   -0.158797  1.000000       -0.396289 -0.259457   \n",
       "ExerciseAngina   0.109995    0.085602 -0.396289        1.000000  0.465391   \n",
       "Oldpeak          0.055468   -0.027138 -0.259457        0.465391  1.000000   \n",
       "ST_Slope        -0.157780    0.017472  0.349926       -0.473543 -0.613843   \n",
       "HeartDisease     0.160594    0.009935 -0.377212        0.551834  0.495562   \n",
       "\n",
       "                ST_Slope  HeartDisease  \n",
       "Age            -0.285421      0.298617  \n",
       "Sex            -0.142808      0.292779  \n",
       "ChestPainType   0.238469     -0.395776  \n",
       "RestingBP      -0.143881      0.173242  \n",
       "Cholesterol    -0.078516      0.103866  \n",
       "FastingBS      -0.157780      0.160594  \n",
       "RestingECG      0.017472      0.009935  \n",
       "MaxHR           0.349926     -0.377212  \n",
       "ExerciseAngina -0.473543      0.551834  \n",
       "Oldpeak        -0.613843      0.495562  \n",
       "ST_Slope        1.000000     -0.597334  \n",
       "HeartDisease   -0.597334      1.000000  "
      ]
     },
     "execution_count": 32,
     "metadata": {},
     "output_type": "execute_result"
    }
   ],
   "source": [
    "df.corr()"
   ]
  },
  {
   "cell_type": "code",
   "execution_count": 33,
   "metadata": {
    "colab": {
     "base_uri": "https://localhost:8080/",
     "height": 544
    },
    "id": "Psb-2SLmyevj",
    "outputId": "9389ea1d-108b-4209-d4d9-86d223e02f7e"
   },
   "outputs": [
    {
     "data": {
      "text/plain": [
       "<AxesSubplot:>"
      ]
     },
     "execution_count": 33,
     "metadata": {},
     "output_type": "execute_result"
    },
    {
     "data": {
      "image/png": "[encoded data removed]",
      "text/plain": [
       "<Figure size 432x288 with 2 Axes>"
      ]
     },
     "metadata": {
      "needs_background": "light"
     },
     "output_type": "display_data"
    }
   ],
   "source": [
    "sns.heatmap(df.corr(), annot = True, fmt = '.1g', cmap = 'mako')"
   ]
  },
  {
   "cell_type": "code",
   "execution_count": 34,
   "metadata": {
    "colab": {
     "base_uri": "https://localhost:8080/",
     "height": 470
    },
    "id": "eZbtX4Oguwpd",
    "outputId": "297f730b-330a-4d1b-e3d4-2ab7ee99cfd8"
   },
   "outputs": [
    {
     "data": {
      "text/html": [
       "<div>\n",
       "<style scoped>\n",
       "    .dataframe tbody tr th:only-of-type {\n",
       "        vertical-align: middle;\n",
       "    }\n",
       "\n",
       "    .dataframe tbody tr th {\n",
       "        vertical-align: top;\n",
       "    }\n",
       "\n",
       "    .dataframe thead th {\n",
       "        text-align: right;\n",
       "    }\n",
       "</style>\n",
       "<table border=\"1\" class=\"dataframe\">\n",
       "  <thead>\n",
       "    <tr style=\"text-align: right;\">\n",
       "      <th></th>\n",
       "      <th>Age</th>\n",
       "      <th>Sex</th>\n",
       "      <th>ChestPainType</th>\n",
       "      <th>RestingBP</th>\n",
       "      <th>Cholesterol</th>\n",
       "      <th>FastingBS</th>\n",
       "      <th>RestingECG</th>\n",
       "      <th>MaxHR</th>\n",
       "      <th>ExerciseAngina</th>\n",
       "      <th>Oldpeak</th>\n",
       "      <th>ST_Slope</th>\n",
       "      <th>HeartDisease</th>\n",
       "    </tr>\n",
       "  </thead>\n",
       "  <tbody>\n",
       "    <tr>\n",
       "      <th>Age</th>\n",
       "      <td>90.361905</td>\n",
       "      <td>0.167155</td>\n",
       "      <td>-0.757097</td>\n",
       "      <td>42.692625</td>\n",
       "      <td>33.040153</td>\n",
       "      <td>0.857376</td>\n",
       "      <td>-0.332907</td>\n",
       "      <td>-89.079281</td>\n",
       "      <td>1.138061</td>\n",
       "      <td>2.912034</td>\n",
       "      <td>-1.622689</td>\n",
       "      <td>1.418785</td>\n",
       "    </tr>\n",
       "    <tr>\n",
       "      <th>Sex</th>\n",
       "      <td>0.167155</td>\n",
       "      <td>0.184695</td>\n",
       "      <td>-0.049708</td>\n",
       "      <td>0.255231</td>\n",
       "      <td>-2.721288</td>\n",
       "      <td>0.015431</td>\n",
       "      <td>0.011487</td>\n",
       "      <td>-1.654724</td>\n",
       "      <td>0.040294</td>\n",
       "      <td>0.058042</td>\n",
       "      <td>-0.036706</td>\n",
       "      <td>0.062889</td>\n",
       "    </tr>\n",
       "    <tr>\n",
       "      <th>ChestPainType</th>\n",
       "      <td>-0.757097</td>\n",
       "      <td>-0.049708</td>\n",
       "      <td>0.918144</td>\n",
       "      <td>-0.564145</td>\n",
       "      <td>-5.817971</td>\n",
       "      <td>-0.000081</td>\n",
       "      <td>-0.028370</td>\n",
       "      <td>7.142226</td>\n",
       "      <td>-0.184186</td>\n",
       "      <td>-0.225606</td>\n",
       "      <td>0.136661</td>\n",
       "      <td>-0.189546</td>\n",
       "    </tr>\n",
       "    <tr>\n",
       "      <th>RestingBP</th>\n",
       "      <td>42.692625</td>\n",
       "      <td>0.255231</td>\n",
       "      <td>-0.564145</td>\n",
       "      <td>298.693440</td>\n",
       "      <td>98.082145</td>\n",
       "      <td>1.122351</td>\n",
       "      <td>0.389479</td>\n",
       "      <td>-53.308525</td>\n",
       "      <td>1.354980</td>\n",
       "      <td>3.679286</td>\n",
       "      <td>-1.487212</td>\n",
       "      <td>1.496493</td>\n",
       "    </tr>\n",
       "    <tr>\n",
       "      <th>Cholesterol</th>\n",
       "      <td>33.040153</td>\n",
       "      <td>-2.721288</td>\n",
       "      <td>-5.817971</td>\n",
       "      <td>98.082145</td>\n",
       "      <td>3499.139363</td>\n",
       "      <td>1.194062</td>\n",
       "      <td>-2.637041</td>\n",
       "      <td>-28.804538</td>\n",
       "      <td>2.498850</td>\n",
       "      <td>3.689410</td>\n",
       "      <td>-2.777757</td>\n",
       "      <td>3.070875</td>\n",
       "    </tr>\n",
       "    <tr>\n",
       "      <th>FastingBS</th>\n",
       "      <td>0.857376</td>\n",
       "      <td>0.015431</td>\n",
       "      <td>-0.000081</td>\n",
       "      <td>1.122351</td>\n",
       "      <td>1.194062</td>\n",
       "      <td>0.139671</td>\n",
       "      <td>0.007444</td>\n",
       "      <td>-0.941366</td>\n",
       "      <td>0.020014</td>\n",
       "      <td>0.022235</td>\n",
       "      <td>-0.035266</td>\n",
       "      <td>0.029998</td>\n",
       "    </tr>\n",
       "    <tr>\n",
       "      <th>RestingECG</th>\n",
       "      <td>-0.332907</td>\n",
       "      <td>0.011487</td>\n",
       "      <td>-0.028370</td>\n",
       "      <td>0.389479</td>\n",
       "      <td>-2.637041</td>\n",
       "      <td>0.007444</td>\n",
       "      <td>0.399347</td>\n",
       "      <td>-2.461002</td>\n",
       "      <td>0.026336</td>\n",
       "      <td>-0.018395</td>\n",
       "      <td>0.006603</td>\n",
       "      <td>0.003138</td>\n",
       "    </tr>\n",
       "    <tr>\n",
       "      <th>MaxHR</th>\n",
       "      <td>-89.079281</td>\n",
       "      <td>-1.654724</td>\n",
       "      <td>7.142226</td>\n",
       "      <td>-53.308525</td>\n",
       "      <td>-28.804538</td>\n",
       "      <td>-0.941366</td>\n",
       "      <td>-2.461002</td>\n",
       "      <td>601.431832</td>\n",
       "      <td>-4.731567</td>\n",
       "      <td>-6.825124</td>\n",
       "      <td>5.132454</td>\n",
       "      <td>-4.623690</td>\n",
       "    </tr>\n",
       "    <tr>\n",
       "      <th>ExerciseAngina</th>\n",
       "      <td>1.138061</td>\n",
       "      <td>0.040294</td>\n",
       "      <td>-0.184186</td>\n",
       "      <td>1.354980</td>\n",
       "      <td>2.498850</td>\n",
       "      <td>0.020014</td>\n",
       "      <td>0.026336</td>\n",
       "      <td>-4.731567</td>\n",
       "      <td>0.237028</td>\n",
       "      <td>0.243035</td>\n",
       "      <td>-0.137884</td>\n",
       "      <td>0.134282</td>\n",
       "    </tr>\n",
       "    <tr>\n",
       "      <th>Oldpeak</th>\n",
       "      <td>2.912034</td>\n",
       "      <td>0.058042</td>\n",
       "      <td>-0.225606</td>\n",
       "      <td>3.679286</td>\n",
       "      <td>3.689410</td>\n",
       "      <td>0.022235</td>\n",
       "      <td>-0.018395</td>\n",
       "      <td>-6.825124</td>\n",
       "      <td>0.243035</td>\n",
       "      <td>1.150547</td>\n",
       "      <td>-0.393791</td>\n",
       "      <td>0.265680</td>\n",
       "    </tr>\n",
       "    <tr>\n",
       "      <th>ST_Slope</th>\n",
       "      <td>-1.622689</td>\n",
       "      <td>-0.036706</td>\n",
       "      <td>0.136661</td>\n",
       "      <td>-1.487212</td>\n",
       "      <td>-2.777757</td>\n",
       "      <td>-0.035266</td>\n",
       "      <td>0.006603</td>\n",
       "      <td>5.132454</td>\n",
       "      <td>-0.137884</td>\n",
       "      <td>-0.393791</td>\n",
       "      <td>0.357695</td>\n",
       "      <td>-0.178559</td>\n",
       "    </tr>\n",
       "    <tr>\n",
       "      <th>HeartDisease</th>\n",
       "      <td>1.418785</td>\n",
       "      <td>0.062889</td>\n",
       "      <td>-0.189546</td>\n",
       "      <td>1.496493</td>\n",
       "      <td>3.070875</td>\n",
       "      <td>0.029998</td>\n",
       "      <td>0.003138</td>\n",
       "      <td>-4.623690</td>\n",
       "      <td>0.134282</td>\n",
       "      <td>0.265680</td>\n",
       "      <td>-0.178559</td>\n",
       "      <td>0.249816</td>\n",
       "    </tr>\n",
       "  </tbody>\n",
       "</table>\n",
       "</div>"
      ],
      "text/plain": [
       "                      Age       Sex  ChestPainType   RestingBP  Cholesterol  \\\n",
       "Age             90.361905  0.167155      -0.757097   42.692625    33.040153   \n",
       "Sex              0.167155  0.184695      -0.049708    0.255231    -2.721288   \n",
       "ChestPainType   -0.757097 -0.049708       0.918144   -0.564145    -5.817971   \n",
       "RestingBP       42.692625  0.255231      -0.564145  298.693440    98.082145   \n",
       "Cholesterol     33.040153 -2.721288      -5.817971   98.082145  3499.139363   \n",
       "FastingBS        0.857376  0.015431      -0.000081    1.122351     1.194062   \n",
       "RestingECG      -0.332907  0.011487      -0.028370    0.389479    -2.637041   \n",
       "MaxHR          -89.079281 -1.654724       7.142226  -53.308525   -28.804538   \n",
       "ExerciseAngina   1.138061  0.040294      -0.184186    1.354980     2.498850   \n",
       "Oldpeak          2.912034  0.058042      -0.225606    3.679286     3.689410   \n",
       "ST_Slope        -1.622689 -0.036706       0.136661   -1.487212    -2.777757   \n",
       "HeartDisease     1.418785  0.062889      -0.189546    1.496493     3.070875   \n",
       "\n",
       "                FastingBS  RestingECG       MaxHR  ExerciseAngina   Oldpeak  \\\n",
       "Age              0.857376   -0.332907  -89.079281        1.138061  2.912034   \n",
       "Sex              0.015431    0.011487   -1.654724        0.040294  0.058042   \n",
       "ChestPainType   -0.000081   -0.028370    7.142226       -0.184186 -0.225606   \n",
       "RestingBP        1.122351    0.389479  -53.308525        1.354980  3.679286   \n",
       "Cholesterol      1.194062   -2.637041  -28.804538        2.498850  3.689410   \n",
       "FastingBS        0.139671    0.007444   -0.941366        0.020014  0.022235   \n",
       "RestingECG       0.007444    0.399347   -2.461002        0.026336 -0.018395   \n",
       "MaxHR           -0.941366   -2.461002  601.431832       -4.731567 -6.825124   \n",
       "ExerciseAngina   0.020014    0.026336   -4.731567        0.237028  0.243035   \n",
       "Oldpeak          0.022235   -0.018395   -6.825124        0.243035  1.150547   \n",
       "ST_Slope        -0.035266    0.006603    5.132454       -0.137884 -0.393791   \n",
       "HeartDisease     0.029998    0.003138   -4.623690        0.134282  0.265680   \n",
       "\n",
       "                ST_Slope  HeartDisease  \n",
       "Age            -1.622689      1.418785  \n",
       "Sex            -0.036706      0.062889  \n",
       "ChestPainType   0.136661     -0.189546  \n",
       "RestingBP      -1.487212      1.496493  \n",
       "Cholesterol    -2.777757      3.070875  \n",
       "FastingBS      -0.035266      0.029998  \n",
       "RestingECG      0.006603      0.003138  \n",
       "MaxHR           5.132454     -4.623690  \n",
       "ExerciseAngina -0.137884      0.134282  \n",
       "Oldpeak        -0.393791      0.265680  \n",
       "ST_Slope        0.357695     -0.178559  \n",
       "HeartDisease   -0.178559      0.249816  "
      ]
     },
     "execution_count": 34,
     "metadata": {},
     "output_type": "execute_result"
    }
   ],
   "source": [
    "df.cov()"
   ]
  },
  {
   "cell_type": "code",
   "execution_count": 35,
   "metadata": {
    "id": "V9bq3Mnzu5e0"
   },
   "outputs": [],
   "source": [
    "X = df.drop('HeartDisease', axis = 1)\n",
    "\n",
    "Y = df['HeartDisease']"
   ]
  },
  {
   "cell_type": "code",
   "execution_count": 36,
   "metadata": {
    "id": "9ODneJSkvOuG"
   },
   "outputs": [],
   "source": [
    "from sklearn.preprocessing import StandardScaler"
   ]
  },
  {
   "cell_type": "code",
   "execution_count": 37,
   "metadata": {
    "id": "DCgsWkPKvTRJ"
   },
   "outputs": [],
   "source": [
    "scaler = StandardScaler()\n",
    "\n",
    "X_s = scaler.fit_transform(X)"
   ]
  },
  {
   "cell_type": "code",
   "execution_count": 38,
   "metadata": {
    "colab": {
     "base_uri": "https://localhost:8080/"
    },
    "id": "9hFQS6iovcim",
    "outputId": "ee8d8b8d-c406-410d-f69b-b3a024a994c2"
   },
   "outputs": [
    {
     "name": "stdout",
     "output_type": "stream",
     "text": [
      "0.8431635388739946\n"
     ]
    }
   ],
   "source": [
    "from sklearn.cluster import KMeans\n",
    "\n",
    "kmeans = KMeans(n_clusters = 2, init = 'k-means++').fit_predict(X_s)\n",
    "\n",
    "print(accuracy_score(Y, kmeans) if accuracy_score(Y, kmeans) > 0.5 else (1 - accuracy_score(Y, kmeans)))"
   ]
  },
  {
   "cell_type": "code",
   "execution_count": 45,
   "metadata": {
    "id": "Nuk0lYl8wY5c"
   },
   "outputs": [],
   "source": [
    "from sklearn.model_selection import train_test_split\n",
    "\n",
    "xtr, xte, ytr, yte = train_test_split(X_s, Y, test_size = 0.75)"
   ]
  },
  {
   "cell_type": "code",
   "execution_count": 46,
   "metadata": {
    "id": "UBNHsWDfwhbP"
   },
   "outputs": [],
   "source": [
    "from sklearn.tree import DecisionTreeClassifier\n",
    "\n",
    "clf_dt = DecisionTreeClassifier()\n",
    "\n",
    "clf_dt.fit(xtr, ytr)\n",
    "\n",
    "ypre_dt = clf_dt.predict(xte)"
   ]
  },
  {
   "cell_type": "code",
   "execution_count": 47,
   "metadata": {
    "colab": {
     "base_uri": "https://localhost:8080/"
    },
    "id": "2V0sPtUzwk0U",
    "outputId": "e927d703-c027-4503-872a-18b63dc8ecf5"
   },
   "outputs": [
    {
     "data": {
      "text/plain": [
       "0.7910714285714285"
      ]
     },
     "execution_count": 47,
     "metadata": {},
     "output_type": "execute_result"
    }
   ],
   "source": [
    "accuracy_score(yte, ypre_dt)"
   ]
  },
  {
   "cell_type": "code",
   "execution_count": 48,
   "metadata": {
    "id": "qIy8AlNXwsgH"
   },
   "outputs": [],
   "source": [
    "cm1 = confusion_matrix(yte, ypre_dt)"
   ]
  },
  {
   "cell_type": "code",
   "execution_count": 49,
   "metadata": {
    "colab": {
     "base_uri": "https://localhost:8080/",
     "height": 447
    },
    "id": "ltGWA7pcwttX",
    "outputId": "a660a31d-252d-44be-db66-bcd9b2fce20f"
   },
   "outputs": [
    {
     "data": {
      "text/plain": [
       "<AxesSubplot:>"
      ]
     },
     "execution_count": 49,
     "metadata": {},
     "output_type": "execute_result"
    },
    {
     "data": {
      "image/png": "[encoded data removed]",
      "text/plain": [
       "<Figure size 432x288 with 2 Axes>"
      ]
     },
     "metadata": {
      "needs_background": "light"
     },
     "output_type": "display_data"
    }
   ],
   "source": [
    "sns.heatmap(cm1, annot = True, fmt = '.1f', xticklabels = 'auto', yticklabels = 'auto')"
   ]
  },
  {
   "cell_type": "code",
   "execution_count": 51,
   "metadata": {
    "id": "VffRvV6nxVUf"
   },
   "outputs": [],
   "source": [
    "from sklearn.neural_network import MLPClassifier"
   ]
  },
  {
   "cell_type": "code",
   "execution_count": 52,
   "metadata": {
    "id": "dCB5Sin73c3Q"
   },
   "outputs": [],
   "source": [
    "from sklearn.neighbors import KNeighborsClassifier"
   ]
  },
  {
   "cell_type": "code",
   "execution_count": 53,
   "metadata": {
    "id": "wMqjykDY6Wiy"
   },
   "outputs": [],
   "source": [
    "from sklearn.svm import SVC"
   ]
  },
  {
   "cell_type": "code",
   "execution_count": 54,
   "metadata": {
    "id": "nxJVOgaY4rDP"
   },
   "outputs": [],
   "source": [
    "from  sklearn.ensemble import RandomForestClassifier"
   ]
  },
  {
   "cell_type": "code",
   "execution_count": 55,
   "metadata": {
    "id": "jx4B6qkG4PWW"
   },
   "outputs": [],
   "source": [
    "from sklearn.naive_bayes import GaussianNB"
   ]
  },
  {
   "cell_type": "code",
   "execution_count": 56,
   "metadata": {
    "id": "7Z3TRMOq_l8I"
   },
   "outputs": [],
   "source": [
    "from sklearn.linear_model import LogisticRegression"
   ]
  },
  {
   "cell_type": "code",
   "execution_count": 50,
   "metadata": {
    "colab": {
     "base_uri": "https://localhost:8080/"
    },
    "id": "mGAtR3B1wwcd",
    "outputId": "1ba19399-233a-4c28-c301-b9952e481cff"
   },
   "outputs": [
    {
     "name": "stdout",
     "output_type": "stream",
     "text": [
      "0.8434642857142858\n",
      "0.8660714285714286\n",
      "0.8232142857142857\n",
      "0.04285714285714293\n",
      "0.8434642857142858\n"
     ]
    }
   ],
   "source": [
    "import numpy as np\n",
    "\n",
    "accs = []\n",
    "\n",
    "for _ in range(500):\n",
    "    \n",
    "    xtr1, xte1, ytr1, yte1 = train_test_split(X_s, Y, test_size = 0.75)\n",
    "        \n",
    "    clf_dt1 = DecisionTreeClassifier()\n",
    "\n",
    "    clf_dt1.fit(xtr1,ytr1)\n",
    "\n",
    "    ypre_dt1 = clf_dt.predict(xte1)\n",
    "        \n",
    "    accs.append(accuracy_score(yte1, ypre_dt1))\n",
    "    \n",
    "        \n",
    "accs = np.array(accs)\n",
    "\n",
    "print(np.mean(accs))\n",
    "\n",
    "print(np.max(accs))\n",
    "\n",
    "print(np.min(accs))\n",
    "\n",
    "print(np.ptp(accs))\n",
    "\n",
    "print(np.average(accs))\n",
    "\n"
   ]
  },
  {
   "cell_type": "code",
   "execution_count": 57,
   "metadata": {
    "id": "uyBmtrCW0d3o"
   },
   "outputs": [],
   "source": [
    "clf_nn = MLPClassifier(solver='lbfgs', hidden_layer_sizes = (500, ), activation = 'relu', alpha = 1e-4, random_state = 1)\n",
    "\n",
    "clf_nn.fit(xtr,ytr)\n",
    "\n",
    "ypre_nn = clf_nn.predict(xte)"
   ]
  },
  {
   "cell_type": "code",
   "execution_count": 58,
   "metadata": {
    "colab": {
     "base_uri": "https://localhost:8080/"
    },
    "id": "5Qv6Gx5ezSM8",
    "outputId": "e6cb3489-edc3-4c5a-ff06-ab1dc8faeb38"
   },
   "outputs": [
    {
     "data": {
      "text/plain": [
       "0.8321428571428572"
      ]
     },
     "execution_count": 58,
     "metadata": {},
     "output_type": "execute_result"
    }
   ],
   "source": [
    "accuracy_score(yte, ypre_nn)"
   ]
  },
  {
   "cell_type": "code",
   "execution_count": 59,
   "metadata": {
    "id": "MSaHWucHzSTZ"
   },
   "outputs": [],
   "source": [
    "cm2 = confusion_matrix(yte, ypre_nn)"
   ]
  },
  {
   "cell_type": "code",
   "execution_count": 60,
   "metadata": {
    "colab": {
     "base_uri": "https://localhost:8080/",
     "height": 450
    },
    "id": "LOJWIvY3zY45",
    "outputId": "4e4cc7b0-4a8a-4ec2-87d8-2ea2d9d59ed3"
   },
   "outputs": [
    {
     "data": {
      "text/plain": [
       "<AxesSubplot:>"
      ]
     },
     "execution_count": 60,
     "metadata": {},
     "output_type": "execute_result"
    },
    {
     "data": {
      "image/png": "[encoded data removed]",
      "text/plain": [
       "<Figure size 432x288 with 2 Axes>"
      ]
     },
     "metadata": {
      "needs_background": "light"
     },
     "output_type": "display_data"
    }
   ],
   "source": [
    "sns.heatmap(cm2, annot = True, fmt = '.1f')"
   ]
  },
  {
   "cell_type": "code",
   "execution_count": 61,
   "metadata": {
    "id": "o66ZFM2B5-JK"
   },
   "outputs": [],
   "source": [
    "xtr, xte, ytr, yte = train_test_split(X_s, Y, test_size = 0.75)"
   ]
  },
  {
   "cell_type": "code",
   "execution_count": 62,
   "metadata": {
    "id": "Fb1PJRbA5kol"
   },
   "outputs": [
    {
     "name": "stdout",
     "output_type": "stream",
     "text": [
      "0.8571428571428571\n"
     ]
    }
   ],
   "source": [
    "RF = RandomForestClassifier()\n",
    "\n",
    "RF.fit(xtr, ytr)\n",
    "\n",
    "ypre = RF.predict(xte)\n",
    "\n",
    "print(accuracy_score(ypre, yte))"
   ]
  },
  {
   "cell_type": "code",
   "execution_count": 63,
   "metadata": {
    "colab": {
     "base_uri": "https://localhost:8080/",
     "height": 184
    },
    "id": "RHoAHwGJ2BkZ",
    "outputId": "66395e85-f8d4-4f36-c8d5-aebea9e2489e"
   },
   "outputs": [],
   "source": [
    "models = [RandomForestClassifier(), SVC(), LogisticRegression(), MLPClassifier(solver = 'lbfgs', hidden_layer_sizes = (500, ), activation = 'relu', alpha = 1e-4),\n",
    "          DecisionTreeClassifier(), KNeighborsClassifier(), GaussianNB()]"
   ]
  },
  {
   "cell_type": "code",
   "execution_count": 67,
   "metadata": {
    "id": "PUoDfvaT4nu2"
   },
   "outputs": [
    {
     "name": "stdout",
     "output_type": "stream",
     "text": [
      "Sample number: 1\n",
      "RandomForestClassifier()\n",
      "Average accuracy on tetsting set: 0.8612500000000001\n",
      "Max accuracy on tetsting set: 0.8660714285714286\n",
      "Min accuracy on tetsting set: 0.8535714285714285\n",
      "\n",
      "SVC()\n",
      "Average accuracy on tetsting set: 0.85\n",
      "Max accuracy on tetsting set: 0.85\n",
      "Min accuracy on tetsting set: 0.85\n",
      "\n",
      "LogisticRegression()\n",
      "Average accuracy on tetsting set: 0.8446428571428571\n",
      "Max accuracy on tetsting set: 0.8446428571428571\n",
      "Min accuracy on tetsting set: 0.8446428571428571\n",
      "\n",
      "MLPClassifier(hidden_layer_sizes=(500,), solver='lbfgs')\n",
      "Average accuracy on tetsting set: 0.7935714285714286\n",
      "Max accuracy on tetsting set: 0.8053571428571429\n",
      "Min accuracy on tetsting set: 0.7857142857142857\n",
      "\n",
      "DecisionTreeClassifier()\n",
      "Average accuracy on tetsting set: 0.8167857142857142\n",
      "Max accuracy on tetsting set: 0.8267857142857142\n",
      "Min accuracy on tetsting set: 0.8071428571428572\n",
      "\n",
      "KNeighborsClassifier()\n",
      "Average accuracy on tetsting set: 0.8589285714285714\n",
      "Max accuracy on tetsting set: 0.8589285714285714\n",
      "Min accuracy on tetsting set: 0.8589285714285714\n",
      "\n",
      "GaussianNB()\n",
      "Average accuracy on tetsting set: 0.8517857142857143\n",
      "Max accuracy on tetsting set: 0.8517857142857143\n",
      "Min accuracy on tetsting set: 0.8517857142857143\n",
      "\n",
      "Sample number: 2\n",
      "RandomForestClassifier()\n",
      "Average accuracy on tetsting set: 0.8376785714285713\n",
      "Max accuracy on tetsting set: 0.8517857142857143\n",
      "Min accuracy on tetsting set: 0.8178571428571428\n",
      "\n",
      "SVC()\n",
      "Average accuracy on tetsting set: 0.8517857142857143\n",
      "Max accuracy on tetsting set: 0.8517857142857143\n",
      "Min accuracy on tetsting set: 0.8517857142857143\n",
      "\n",
      "LogisticRegression()\n",
      "Average accuracy on tetsting set: 0.8446428571428571\n",
      "Max accuracy on tetsting set: 0.8446428571428571\n",
      "Min accuracy on tetsting set: 0.8446428571428571\n",
      "\n",
      "MLPClassifier(hidden_layer_sizes=(500,), solver='lbfgs')\n",
      "Average accuracy on tetsting set: 0.8358928571428572\n",
      "Max accuracy on tetsting set: 0.8410714285714286\n",
      "Min accuracy on tetsting set: 0.8303571428571429\n",
      "\n",
      "DecisionTreeClassifier()\n",
      "Average accuracy on tetsting set: 0.8157142857142856\n",
      "Max accuracy on tetsting set: 0.8285714285714286\n",
      "Min accuracy on tetsting set: 0.8071428571428572\n",
      "\n",
      "KNeighborsClassifier()\n",
      "Average accuracy on tetsting set: 0.8285714285714286\n",
      "Max accuracy on tetsting set: 0.8285714285714286\n",
      "Min accuracy on tetsting set: 0.8285714285714286\n",
      "\n",
      "GaussianNB()\n",
      "Average accuracy on tetsting set: 0.8089285714285716\n",
      "Max accuracy on tetsting set: 0.8089285714285714\n",
      "Min accuracy on tetsting set: 0.8089285714285714\n",
      "\n",
      "Sample number: 3\n",
      "RandomForestClassifier()\n",
      "Average accuracy on tetsting set: 0.8307142857142857\n",
      "Max accuracy on tetsting set: 0.8410714285714286\n",
      "Min accuracy on tetsting set: 0.825\n",
      "\n",
      "SVC()\n",
      "Average accuracy on tetsting set: 0.8267857142857142\n",
      "Max accuracy on tetsting set: 0.8267857142857142\n",
      "Min accuracy on tetsting set: 0.8267857142857142\n",
      "\n",
      "LogisticRegression()\n",
      "Average accuracy on tetsting set: 0.825\n",
      "Max accuracy on tetsting set: 0.825\n",
      "Min accuracy on tetsting set: 0.825\n",
      "\n",
      "MLPClassifier(hidden_layer_sizes=(500,), solver='lbfgs')\n",
      "Average accuracy on tetsting set: 0.8005357142857144\n",
      "Max accuracy on tetsting set: 0.8125\n",
      "Min accuracy on tetsting set: 0.7892857142857143\n",
      "\n",
      "DecisionTreeClassifier()\n",
      "Average accuracy on tetsting set: 0.7844642857142857\n",
      "Max accuracy on tetsting set: 0.7964285714285714\n",
      "Min accuracy on tetsting set: 0.7607142857142857\n",
      "\n",
      "KNeighborsClassifier()\n",
      "Average accuracy on tetsting set: 0.8392857142857142\n",
      "Max accuracy on tetsting set: 0.8392857142857143\n",
      "Min accuracy on tetsting set: 0.8392857142857143\n",
      "\n",
      "GaussianNB()\n",
      "Average accuracy on tetsting set: 0.8267857142857142\n",
      "Max accuracy on tetsting set: 0.8267857142857142\n",
      "Min accuracy on tetsting set: 0.8267857142857142\n",
      "\n",
      "Sample number: 4\n",
      "RandomForestClassifier()\n",
      "Average accuracy on tetsting set: 0.8469642857142856\n",
      "Max accuracy on tetsting set: 0.8553571428571428\n",
      "Min accuracy on tetsting set: 0.8428571428571429\n",
      "\n",
      "SVC()\n",
      "Average accuracy on tetsting set: 0.8517857142857143\n",
      "Max accuracy on tetsting set: 0.8517857142857143\n",
      "Min accuracy on tetsting set: 0.8517857142857143\n",
      "\n",
      "LogisticRegression()\n",
      "Average accuracy on tetsting set: 0.8357142857142857\n",
      "Max accuracy on tetsting set: 0.8357142857142857\n",
      "Min accuracy on tetsting set: 0.8357142857142857\n",
      "\n",
      "MLPClassifier(hidden_layer_sizes=(500,), solver='lbfgs')\n",
      "Average accuracy on tetsting set: 0.81375\n",
      "Max accuracy on tetsting set: 0.8214285714285714\n",
      "Min accuracy on tetsting set: 0.8053571428571429\n",
      "\n",
      "DecisionTreeClassifier()\n",
      "Average accuracy on tetsting set: 0.7987499999999998\n",
      "Max accuracy on tetsting set: 0.8071428571428572\n",
      "Min accuracy on tetsting set: 0.7875\n",
      "\n",
      "KNeighborsClassifier()\n",
      "Average accuracy on tetsting set: 0.8375\n",
      "Max accuracy on tetsting set: 0.8375\n",
      "Min accuracy on tetsting set: 0.8375\n",
      "\n",
      "GaussianNB()\n",
      "Average accuracy on tetsting set: 0.8392857142857142\n",
      "Max accuracy on tetsting set: 0.8392857142857143\n",
      "Min accuracy on tetsting set: 0.8392857142857143\n",
      "\n",
      "Sample number: 5\n",
      "RandomForestClassifier()\n",
      "Average accuracy on tetsting set: 0.8553571428571429\n",
      "Max accuracy on tetsting set: 0.8642857142857143\n",
      "Min accuracy on tetsting set: 0.8464285714285714\n",
      "\n",
      "SVC()\n",
      "Average accuracy on tetsting set: 0.8607142857142858\n",
      "Max accuracy on tetsting set: 0.8607142857142858\n",
      "Min accuracy on tetsting set: 0.8607142857142858\n",
      "\n",
      "LogisticRegression()\n",
      "Average accuracy on tetsting set: 0.8285714285714286\n",
      "Max accuracy on tetsting set: 0.8285714285714286\n",
      "Min accuracy on tetsting set: 0.8285714285714286\n",
      "\n",
      "MLPClassifier(hidden_layer_sizes=(500,), solver='lbfgs')\n",
      "Average accuracy on tetsting set: 0.7844642857142857\n",
      "Max accuracy on tetsting set: 0.7946428571428571\n",
      "Min accuracy on tetsting set: 0.7714285714285715\n",
      "\n",
      "DecisionTreeClassifier()\n",
      "Average accuracy on tetsting set: 0.8003571428571428\n",
      "Max accuracy on tetsting set: 0.8142857142857143\n",
      "Min accuracy on tetsting set: 0.7892857142857143\n",
      "\n",
      "KNeighborsClassifier()\n",
      "Average accuracy on tetsting set: 0.8321428571428571\n",
      "Max accuracy on tetsting set: 0.8321428571428572\n",
      "Min accuracy on tetsting set: 0.8321428571428572\n",
      "\n",
      "GaussianNB()\n",
      "Average accuracy on tetsting set: 0.8607142857142858\n",
      "Max accuracy on tetsting set: 0.8607142857142858\n",
      "Min accuracy on tetsting set: 0.8607142857142858\n",
      "\n"
     ]
    }
   ],
   "source": [
    "for _ in range(5):\n",
    "    \n",
    "    xtr, xte, ytr, yte = train_test_split(X_s, Y, test_size = 0.75)\n",
    "    \n",
    "    print(f\"Sample number: {_+1}\")\n",
    "\n",
    "    for model in models:\n",
    "        \n",
    "        accs = []\n",
    "        \n",
    "        for __ in range(10):\n",
    "    \n",
    "            model.fit(xtr , ytr)\n",
    "    \n",
    "            ypre = model.predict(xte)\n",
    "        \n",
    "            accs.append(accuracy_score(ypre, yte))\n",
    "        \n",
    "        print(model)\n",
    "    \n",
    "        print( f\"Average accuracy on tetsting set: {np.mean(np.array(accs))}\" )\n",
    "        \n",
    "        print( f\"Max accuracy on tetsting set: {np.max(np.array(accs))}\" )\n",
    "        \n",
    "        print( f\"Min accuracy on tetsting set: {np.min(np.array(accs))}\" )\n",
    "\n",
    "        print()"
   ]
  },
  {
   "cell_type": "code",
   "execution_count": null,
   "metadata": {},
   "outputs": [],
   "source": []
  }
 ],
 "metadata": {
  "colab": {
   "provenance": []
  },
  "kernelspec": {
   "display_name": "Python 3",
   "language": "python",
   "name": "python3"
  },
  "language_info": {
   "codemirror_mode": {
    "name": "ipython",
    "version": 3
   },
   "file_extension": ".py",
   "mimetype": "text/x-python",
   "name": "python",
   "nbconvert_exporter": "python",
   "pygments_lexer": "ipython3",
   "version": "3.8.8"
  }
 },
 "nbformat": 4,
 "nbformat_minor": 4
}
